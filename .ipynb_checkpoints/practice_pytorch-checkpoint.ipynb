{
 "cells": [
  {
   "cell_type": "code",
   "execution_count": null,
   "metadata": {
    "id": "At-vE2wZwGq7"
   },
   "outputs": [],
   "source": [
    "import torch\n",
    "import numpy as np\n",
    "from sklearn.metrics import roc_auc_score"
   ]
  },
  {
   "cell_type": "markdown",
   "metadata": {
    "id": "-0YzElsbwY-Z"
   },
   "source": [
    "# Практикум 2, PyTorch\n",
    "\n",
    "PyTorch - одна из самых популярных библиотек для глубокого обучения. Две основные вещи, которые она делает:\n",
    "* Замена Numpy в вычислениях на GPU/TPU(Tensor Processing Unit)/IPU(Intelligent Processing Unit)\n",
    "* Автоматическое дифференциирование\n",
    "\n",
    "Что можно посмотреть еще:\n",
    "* [Официальные туториалы по PyTorch](https://pytorch.org/tutorials/index.html)\n",
    "* Сравнение PyTorch и TF https://habr.com/ru/company/ru_mts/blog/565456/\n"
   ]
  },
  {
   "cell_type": "markdown",
   "metadata": {
    "id": "-CkwvRXh2h-G"
   },
   "source": [
    "## 1. Тензоры \n",
    "\n",
    "Тензор в PyTorch - аналог np.ndarray, n-мерный массив. Они нужны для хранения входных и выходных данных модели, и хранения параметров модели (например, веса нейросетки).\n",
    "\n",
    "[Связь тензоров и np.ndarray](https://pytorch.org/tutorials/beginner/blitz/tensor_tutorial.html#bridge-to-np-label)"
   ]
  },
  {
   "cell_type": "code",
   "execution_count": null,
   "metadata": {
    "colab": {
     "base_uri": "https://localhost:8080/"
    },
    "executionInfo": {
     "elapsed": 390,
     "status": "ok",
     "timestamp": 1634987751101,
     "user": {
      "displayName": "Elena Kartysheva",
      "photoUrl": "https://lh3.googleusercontent.com/a/default-user=s64",
      "userId": "02981934999259921969"
     },
     "user_tz": -180
    },
    "id": "eJQaXPdeweeN",
    "outputId": "0419da26-523d-41a1-fcbe-a7cb3707b399"
   },
   "outputs": [
    {
     "data": {
      "text/plain": [
       "tensor([[1, 2],\n",
       "        [3, 4]])"
      ]
     },
     "execution_count": 2,
     "metadata": {},
     "output_type": "execute_result"
    }
   ],
   "source": [
    "# пример создания тензора из данных\n",
    "data = [[1, 2], [3, 4]]\n",
    "x_data = torch.tensor(data)\n",
    "\n",
    "x_data"
   ]
  },
  {
   "cell_type": "code",
   "execution_count": null,
   "metadata": {
    "colab": {
     "base_uri": "https://localhost:8080/"
    },
    "executionInfo": {
     "elapsed": 365,
     "status": "ok",
     "timestamp": 1634987807548,
     "user": {
      "displayName": "Elena Kartysheva",
      "photoUrl": "https://lh3.googleusercontent.com/a/default-user=s64",
      "userId": "02981934999259921969"
     },
     "user_tz": -180
    },
    "id": "xCTl4-_Zweup",
    "outputId": "ccfde22f-690b-4a06-abb9-94fde5c3158f"
   },
   "outputs": [
    {
     "data": {
      "text/plain": [
       "tensor([[1, 2],\n",
       "        [3, 4]])"
      ]
     },
     "execution_count": 3,
     "metadata": {},
     "output_type": "execute_result"
    }
   ],
   "source": [
    "# можно создавать тензор из массива\n",
    "np_array = np.array(data)\n",
    "x_np = torch.from_numpy(np_array)\n",
    "\n",
    "x_np"
   ]
  },
  {
   "cell_type": "code",
   "execution_count": null,
   "metadata": {
    "colab": {
     "base_uri": "https://localhost:8080/"
    },
    "executionInfo": {
     "elapsed": 383,
     "status": "ok",
     "timestamp": 1634987894357,
     "user": {
      "displayName": "Elena Kartysheva",
      "photoUrl": "https://lh3.googleusercontent.com/a/default-user=s64",
      "userId": "02981934999259921969"
     },
     "user_tz": -180
    },
    "id": "lj57TRDj3llu",
    "outputId": "1b12a335-cefa-4f25-b87e-440dd23a8550"
   },
   "outputs": [
    {
     "name": "stdout",
     "output_type": "stream",
     "text": [
      "Ones Tensor: \n",
      " tensor([[1, 1],\n",
      "        [1, 1]]) \n",
      "\n",
      "Random Tensor: \n",
      " tensor([[0.7906, 0.9854],\n",
      "        [0.3020, 0.7309]]) \n",
      "\n"
     ]
    }
   ],
   "source": [
    "# очень многие операции работают как в np.ndarray\n",
    "x_ones = torch.ones_like(x_data)\n",
    "print(f\"Ones Tensor: \\n {x_ones} \\n\")\n",
    "\n",
    "# можно создавать массив со случайными значениями\n",
    "x_rand = torch.rand_like(x_data, dtype=torch.float)\n",
    "print(f\"Random Tensor: \\n {x_rand} \\n\")"
   ]
  },
  {
   "cell_type": "code",
   "execution_count": null,
   "metadata": {
    "colab": {
     "base_uri": "https://localhost:8080/"
    },
    "executionInfo": {
     "elapsed": 4,
     "status": "ok",
     "timestamp": 1634989894795,
     "user": {
      "displayName": "Elena Kartysheva",
      "photoUrl": "https://lh3.googleusercontent.com/a/default-user=s64",
      "userId": "02981934999259921969"
     },
     "user_tz": -180
    },
    "id": "VW5xH8Vx4N_p",
    "outputId": "05a0973c-cd96-4180-8796-732e9a2e6895"
   },
   "outputs": [
    {
     "name": "stdout",
     "output_type": "stream",
     "text": [
      "Shape of tensor: torch.Size([3, 4])\n",
      "Datatype of tensor: torch.float32\n",
      "Device tensor is stored on: cpu\n"
     ]
    }
   ],
   "source": [
    "# помимо привычных атрибутов, к тензору добавился еще один атрибут - device. Там записано, где именно сидит тензор (CPU, GPU, ...)\n",
    "\n",
    "tensor = torch.rand(3, 4)\n",
    "\n",
    "print(f\"Shape of tensor: {tensor.shape}\")\n",
    "print(f\"Datatype of tensor: {tensor.dtype}\")\n",
    "print(f\"Device tensor is stored on: {tensor.device}\")"
   ]
  },
  {
   "cell_type": "code",
   "execution_count": null,
   "metadata": {
    "colab": {
     "base_uri": "https://localhost:8080/"
    },
    "executionInfo": {
     "elapsed": 210,
     "status": "ok",
     "timestamp": 1634990108828,
     "user": {
      "displayName": "Elena Kartysheva",
      "photoUrl": "https://lh3.googleusercontent.com/a/default-user=s64",
      "userId": "02981934999259921969"
     },
     "user_tz": -180
    },
    "id": "LncSKQWx4kLS",
    "outputId": "9563839b-a604-4982-ef90-37d066b7a52a"
   },
   "outputs": [
    {
     "name": "stdout",
     "output_type": "stream",
     "text": [
      "Device tensor is stored on: cuda:0\n",
      "Device tensor is stored on: cuda:0\n"
     ]
    }
   ],
   "source": [
    "# чтобы делать какие-то вычисления с тензором на GPU/TPU/..., нужно сначала его туда поместить\n",
    "if torch.cuda.is_available(): # проверяем, что GPU доступна\n",
    "  tensor = tensor.to('cuda')\n",
    "  print(f\"Device tensor is stored on: {tensor.device}\")\n",
    "\n",
    "  device = torch.device(\"cuda\")\n",
    "  # или можно сразу создавать тензор на gpu\n",
    "  tensor = torch.rand(3, 4, device=device)\n",
    "  print(f\"Device tensor is stored on: {tensor.device}\")"
   ]
  },
  {
   "cell_type": "markdown",
   "metadata": {
    "id": "-U4MLHLxGTWN"
   },
   "source": [
    "## 2. Dataset and dataloader\n",
    "\n",
    "Некоторые самые популярные датасеты типа MNIST уже есть в PyTorch, их можно быстро и легко загрузить. Посмотреть датасеты можно в [torchvision](https://pytorch.org/vision/stable/datasets.html), [torchtext](https://pytorch.org/text/stable/datasets.html), [torchaudio](https://pytorch.org/audio/stable/datasets.html)\n",
    "\n"
   ]
  },
  {
   "cell_type": "code",
   "execution_count": null,
   "metadata": {
    "colab": {
     "base_uri": "https://localhost:8080/",
     "height": 471,
     "referenced_widgets": [
      "5ffedc80417342a0a2a953b8cd606931",
      "5b23d33628f94187861efc722368d43d",
      "f935a1905e7d4de28fc5f99e25fcd0a2",
      "a34602c9aa2141d1a4f0e26bd952cce5",
      "451aa0d7aeab49e1bc3e7bd4e0766f07",
      "9399b6eeb23f4c9e9e3af1e5d662fc4e",
      "f95929b6b723453aa94dad7a7309a832",
      "42f6fc356b6546c2adc0d785b199efbc",
      "70c2f6d42a9e4a0dbda3908c0d8c1da4",
      "a79b4c12f5114880b700ed093c0b9dd3",
      "3d09edc4154545f68d1c613dbcda2e8c",
      "f4cff92c86c2452ca76f2664ee70aec9",
      "5e8d39d1f0bd4516954e89a50ac6d446",
      "2aca6345bbe941b08c9383df09e9dd3f",
      "918e2e661ce84985b8dc92d4a974a215",
      "5838f2b538cd42d7a18e93aee2035fbf",
      "f54131893b5a47678c837b18d15a0b5f",
      "3050e7fd9f8548d9bee0c3068111946a",
      "50b9af7712cb495db9b43b3bea9a2bbc",
      "698a708f25244ce28ba07ed8c35ea1a3",
      "f8a67a23fef344858680b4ac8bb76568",
      "c623ef30a30049beb9b67c1d07965139",
      "4450ac8fdd2b4e7bb4ab721c4b36fe92",
      "7a396ceac036499d8baeb54559c09879",
      "5ca82f47e027457bace3f780326bb470",
      "1c5664e764ea402fa66ad9d5987d0354",
      "c582203a07744884beca33043f79d7e7",
      "de507b586548423fbc8f81e4803dc1c9",
      "f0e197bb2ba848549c0cda0dbd0532a6",
      "acf361d132da4fd9a30fd36bd353675d",
      "dd5fbde69dab4d3db1914d7066869a9c",
      "494c44c90251463b830e8266fbfbc88a",
      "421f9a6caf554eb59a8e59e06d5757a0",
      "d8105c550eb34ab480380e37276f6299",
      "dc135590064e436d9a6312ec1b3f33b0",
      "6a0dc9b8e3a24128a2dd2551a38b6dd9",
      "d10e823a190a40118e9b896c95048933",
      "1b798a55a2c34f708d4021c27ec744c2",
      "e6ebcaec4d114cc49ef8940ce363fc1e",
      "a1e7c47fe21c4497bd468fb27282cd24",
      "86e812f066c543d49e62be361841a3a3",
      "efa74317f84745fd80c8c97420ec95e2",
      "f9f189bb65e84e608dd591f992c9485f",
      "600952dab26640f99d84230a916b507c"
     ]
    },
    "executionInfo": {
     "elapsed": 919,
     "status": "ok",
     "timestamp": 1635325551626,
     "user": {
      "displayName": "Elena Kartysheva",
      "photoUrl": "https://lh3.googleusercontent.com/a/default-user=s64",
      "userId": "02981934999259921969"
     },
     "user_tz": -180
    },
    "id": "5a7sjxFaGLK1",
    "outputId": "c79927fc-5056-45cd-e08a-973968bf40ca"
   },
   "outputs": [
    {
     "name": "stdout",
     "output_type": "stream",
     "text": [
      "Downloading http://yann.lecun.com/exdb/mnist/train-images-idx3-ubyte.gz\n",
      "Downloading http://yann.lecun.com/exdb/mnist/train-images-idx3-ubyte.gz to data/MNIST/raw/train-images-idx3-ubyte.gz\n"
     ]
    },
    {
     "data": {
      "application/vnd.jupyter.widget-view+json": {
       "model_id": "5ffedc80417342a0a2a953b8cd606931",
       "version_major": 2,
       "version_minor": 0
      },
      "text/plain": [
       "  0%|          | 0/9912422 [00:00<?, ?it/s]"
      ]
     },
     "metadata": {},
     "output_type": "display_data"
    },
    {
     "name": "stdout",
     "output_type": "stream",
     "text": [
      "Extracting data/MNIST/raw/train-images-idx3-ubyte.gz to data/MNIST/raw\n",
      "\n",
      "Downloading http://yann.lecun.com/exdb/mnist/train-labels-idx1-ubyte.gz\n",
      "Downloading http://yann.lecun.com/exdb/mnist/train-labels-idx1-ubyte.gz to data/MNIST/raw/train-labels-idx1-ubyte.gz\n"
     ]
    },
    {
     "data": {
      "application/vnd.jupyter.widget-view+json": {
       "model_id": "f4cff92c86c2452ca76f2664ee70aec9",
       "version_major": 2,
       "version_minor": 0
      },
      "text/plain": [
       "  0%|          | 0/28881 [00:00<?, ?it/s]"
      ]
     },
     "metadata": {},
     "output_type": "display_data"
    },
    {
     "name": "stdout",
     "output_type": "stream",
     "text": [
      "Extracting data/MNIST/raw/train-labels-idx1-ubyte.gz to data/MNIST/raw\n",
      "\n",
      "Downloading http://yann.lecun.com/exdb/mnist/t10k-images-idx3-ubyte.gz\n",
      "Downloading http://yann.lecun.com/exdb/mnist/t10k-images-idx3-ubyte.gz to data/MNIST/raw/t10k-images-idx3-ubyte.gz\n"
     ]
    },
    {
     "data": {
      "application/vnd.jupyter.widget-view+json": {
       "model_id": "4450ac8fdd2b4e7bb4ab721c4b36fe92",
       "version_major": 2,
       "version_minor": 0
      },
      "text/plain": [
       "  0%|          | 0/1648877 [00:00<?, ?it/s]"
      ]
     },
     "metadata": {},
     "output_type": "display_data"
    },
    {
     "name": "stdout",
     "output_type": "stream",
     "text": [
      "Extracting data/MNIST/raw/t10k-images-idx3-ubyte.gz to data/MNIST/raw\n",
      "\n",
      "Downloading http://yann.lecun.com/exdb/mnist/t10k-labels-idx1-ubyte.gz\n",
      "Downloading http://yann.lecun.com/exdb/mnist/t10k-labels-idx1-ubyte.gz to data/MNIST/raw/t10k-labels-idx1-ubyte.gz\n"
     ]
    },
    {
     "data": {
      "application/vnd.jupyter.widget-view+json": {
       "model_id": "d8105c550eb34ab480380e37276f6299",
       "version_major": 2,
       "version_minor": 0
      },
      "text/plain": [
       "  0%|          | 0/4542 [00:00<?, ?it/s]"
      ]
     },
     "metadata": {},
     "output_type": "display_data"
    },
    {
     "name": "stdout",
     "output_type": "stream",
     "text": [
      "Extracting data/MNIST/raw/t10k-labels-idx1-ubyte.gz to data/MNIST/raw\n",
      "\n"
     ]
    },
    {
     "name": "stderr",
     "output_type": "stream",
     "text": [
      "/usr/local/lib/python3.7/dist-packages/torchvision/datasets/mnist.py:498: UserWarning: The given NumPy array is not writeable, and PyTorch does not support non-writeable tensors. This means you can write to the underlying (supposedly non-writeable) NumPy array using the tensor. You may want to copy the array to protect its data or make it writeable before converting it to a tensor. This type of warning will be suppressed for the rest of this program. (Triggered internally at  /pytorch/torch/csrc/utils/tensor_numpy.cpp:180.)\n",
      "  return torch.from_numpy(parsed.astype(m[2], copy=False)).view(*s)\n"
     ]
    }
   ],
   "source": [
    "import torch\n",
    "from torch.utils.data import Dataset\n",
    "from torchvision import datasets\n",
    "from torchvision.transforms import ToTensor\n",
    "import matplotlib.pyplot as plt\n",
    "\n",
    "training_data = datasets.MNIST(\n",
    "    root=\"data\", # root is the path where the train/test data is stored\n",
    "    train=True, # train specifies training or test dataset\n",
    "    download=True, # download=True downloads the data from the internet if it’s not available at root\n",
    "    transform=ToTensor() # transform and target_transform specify the feature and label transformations\n",
    ")\n",
    "\n",
    "test_data = datasets.MNIST(\n",
    "    root=\"data\",\n",
    "    train=False,\n",
    "    download=True,\n",
    "    transform=ToTensor()\n",
    ")"
   ]
  },
  {
   "cell_type": "code",
   "execution_count": 1,
   "metadata": {
    "colab": {
     "base_uri": "https://localhost:8080/",
     "height": 1000
    },
    "executionInfo": {
     "elapsed": 1229,
     "status": "ok",
     "timestamp": 1635325557363,
     "user": {
      "displayName": "Elena Kartysheva",
      "photoUrl": "https://lh3.googleusercontent.com/a/default-user=s64",
      "userId": "02981934999259921969"
     },
     "user_tz": -180
    },
    "id": "2_E5wmkyHfJV",
    "outputId": "e84b5050-30a0-4a11-8f90-407f0a74609e"
   },
   "outputs": [
    {
     "ename": "NameError",
     "evalue": "name 'plt' is not defined",
     "output_type": "error",
     "traceback": [
      "\u001b[0;31m---------------------------------------------------------------------------\u001b[0m",
      "\u001b[0;31mNameError\u001b[0m                                 Traceback (most recent call last)",
      "Input \u001b[0;32mIn [1]\u001b[0m, in \u001b[0;36m<module>\u001b[0;34m\u001b[0m\n\u001b[1;32m      1\u001b[0m \u001b[38;5;66;03m# можно визуализировать датасет\u001b[39;00m\n\u001b[0;32m----> 3\u001b[0m figure \u001b[38;5;241m=\u001b[39m \u001b[43mplt\u001b[49m\u001b[38;5;241m.\u001b[39mfigure(figsize\u001b[38;5;241m=\u001b[39m(\u001b[38;5;241m8\u001b[39m, \u001b[38;5;241m8\u001b[39m))\n\u001b[1;32m      4\u001b[0m img, label \u001b[38;5;241m=\u001b[39m training_data[\u001b[38;5;241m1\u001b[39m]\n\u001b[1;32m      5\u001b[0m \u001b[38;5;28mprint\u001b[39m(img)\n",
      "\u001b[0;31mNameError\u001b[0m: name 'plt' is not defined"
     ]
    }
   ],
   "source": [
    "# можно визуализировать датасет\n",
    "\n",
    "figure = plt.figure(figsize=(8, 8))\n",
    "img, label = training_data[1]\n",
    "print(img)\n",
    "print(\"\\n\\n/n---------------/n/n/n\")\n",
    "print(img.shape)\n",
    "print(img.dtype)\n",
    "print(img.device)\n",
    "print(\"/n/n/n---------------/n/n/n\")\n",
    "print(label)\n",
    "plt.axis(\"off\")\n",
    "squezed = img.squeeze() # убивает все лишние размерности\n",
    "print(squezed.shape)\n",
    "print(squezed.dtype)\n",
    "print(squezed.device)\n",
    "print(\"/n/n/n---------------/n/n/n\")\n",
    "plt.imshow(img.squeeze(), cmap=\"gray\")\n",
    "plt.show()"
   ]
  },
  {
   "cell_type": "markdown",
   "metadata": {
    "id": "msY_I0nxY8OE"
   },
   "source": [
    "### Dataloader\n",
    "\n",
    "В DL почти постоянно приходится работать не с целым датасетом, а с его разбиением на батчи. С помощью `Dataloader` это можно сделать просто и безболезненно."
   ]
  },
  {
   "cell_type": "code",
   "execution_count": null,
   "metadata": {
    "id": "9-tZLoXlihVD"
   },
   "outputs": [],
   "source": [
    "from torch.utils.data import DataLoader\n",
    "\n",
    "train_dataloader = DataLoader(training_data, batch_size=64, shuffle=True)\n",
    "test_dataloader = DataLoader(test_data, batch_size=64, shuffle=True)"
   ]
  },
  {
   "cell_type": "code",
   "execution_count": null,
   "metadata": {
    "colab": {
     "base_uri": "https://localhost:8080/"
    },
    "executionInfo": {
     "elapsed": 8,
     "status": "ok",
     "timestamp": 1635075749412,
     "user": {
      "displayName": "Elena Kartysheva",
      "photoUrl": "https://lh3.googleusercontent.com/a/default-user=s64",
      "userId": "02981934999259921969"
     },
     "user_tz": -180
    },
    "id": "BG3Jws9abmW8",
    "outputId": "9a582959-a0b1-48f8-a8a6-6aa11c174c37"
   },
   "outputs": [
    {
     "name": "stdout",
     "output_type": "stream",
     "text": [
      "torch.Size([64, 1, 28, 28])\n",
      "torch.Size([64])\n"
     ]
    }
   ],
   "source": [
    "# теперь просто итерируемся по dataloader, он будет последовательно выдавать батчи нужного размера\n",
    "\n",
    "for batch, label in train_dataloader:\n",
    "  print(batch.shape)\n",
    "  print(label.shape)\n",
    "  break"
   ]
  },
  {
   "cell_type": "markdown",
   "metadata": {
    "id": "--Nisa96HeHN"
   },
   "source": [
    "## 3. Пишем нейронную сеть\n",
    "\n",
    "Для моделей в PyTorch есть специальный namespace `torch.nn`. В нем есть довольно большая часть всех \"строительных блоков\" для нейронной сети, которые могут понадобиться в реальной жизни. Посмотрим, как написать свою небольшую нейронную сеть, в которой будет 3 линейных слоя, соединенные функцией активации сигмоидой."
   ]
  },
  {
   "cell_type": "code",
   "execution_count": null,
   "metadata": {
    "id": "s8wvGPeNg2l2"
   },
   "outputs": [],
   "source": [
    "from torch import nn\n",
    "\n",
    "# создаем класс нейронной сети, который наследуем от базового класса для всех моделей nn.Module\n",
    "class NeuralNetwork(nn.Module):\n",
    "    def __init__(self):\n",
    "        super(NeuralNetwork, self).__init__()\n",
    "        self.linear_relu_stack = nn.Sequential(\n",
    "            nn.Conv2d(3, 6, 5),\n",
    "            nn.relu(),\n",
    "            nn.MaxPool2d(2, 2),\n",
    "            nn.Conv2d(6, 16, 5),\n",
    "            nn.relu(),\n",
    "            nn.MaxPool2d(2, 2),\n",
    "            torch.flatten(),\n",
    "            nn.Linear(16 * 5 * 5, 120),\n",
    "            nn.relu(),\n",
    "            nn.Linear(120, 84),\n",
    "            nn.relu(),\n",
    "            nn.Linear(84, 10)\n",
    "        )\n",
    "\n",
    "    # в функции forward описываем, как дожны идти данные от входа модели к выходу\n",
    "    def forward(self, x):\n",
    "        logits = self.linear_relu_stack(x)\n",
    "        return logits\n",
    "\n",
    "\n",
    "\n",
    "        class Net(nn.Module):\n",
    "    def __init__(self):\n",
    "        super().__init__()\n",
    "        self.conv1 = nn.Conv2d(3, 6, 5)\n",
    "        self.pool = nn.MaxPool2d(2, 2)\n",
    "        self.conv2 = nn.Conv2d(6, 16, 5)\n",
    "        self.fc1 = nn.Linear(16 * 5 * 5, 120)\n",
    "        self.fc2 = nn.Linear(120, 84)\n",
    "        self.fc3 = nn.Linear(84, 10)\n",
    "\n",
    "    def forward(self, x):\n",
    "        x = self.pool(F.relu(self.conv1(x)))\n",
    "        x = self.pool(F.relu(self.conv2(x)))\n",
    "        x = torch.flatten(x, 1) # flatten all dimensions except batch\n",
    "        x = F.relu(self.fc1(x))\n",
    "        x = F.relu(self.fc2(x))\n",
    "        x = self.fc3(x)\n",
    "        return x"
   ]
  },
  {
   "cell_type": "code",
   "execution_count": null,
   "metadata": {
    "colab": {
     "base_uri": "https://localhost:8080/"
    },
    "executionInfo": {
     "elapsed": 258,
     "status": "ok",
     "timestamp": 1635326559351,
     "user": {
      "displayName": "Elena Kartysheva",
      "photoUrl": "https://lh3.googleusercontent.com/a/default-user=s64",
      "userId": "02981934999259921969"
     },
     "user_tz": -180
    },
    "id": "ZfoscZcIi1HU",
    "outputId": "af6c4266-cdec-422f-fe69-e410b20feac9"
   },
   "outputs": [
    {
     "name": "stdout",
     "output_type": "stream",
     "text": [
      "Predicted class: tensor([3, 3, 3, 3, 3, 4, 3, 8, 5, 3, 5, 3, 5, 3, 5, 8, 8, 8, 5, 3, 5, 3, 5, 3,\n",
      "        3, 5, 3, 5, 3, 3, 5, 5, 8, 5, 3, 3, 4, 8, 5, 1, 8, 3, 3, 5, 5, 3, 8, 3,\n",
      "        5, 5, 3, 5, 6, 5, 8, 8, 8, 5, 8, 5, 8, 3, 8, 3])\n"
     ]
    }
   ],
   "source": [
    "model = NeuralNetwork()\n",
    "\n",
    "for batch, label in train_dataloader:\n",
    "  #print(batch.shape)\n",
    "  #print(label.shape)\n",
    "\n",
    "  logits = model(batch) # для каждого объекта получили вектор длины 10 (по числу классов)\n",
    "  pred_probab = nn.Softmax(dim=1)(logits) # к выходам применяем функцию softmax, чтобы понять, у какого класса самая высокая вероятность по мнению модели\n",
    "  y_pred = pred_probab.argmax(1) # предсказанный класс - класс с максимальной вероятностью\n",
    "  #print(f\"Predicted class: {y_pred}\")\n",
    "\n",
    "  break"
   ]
  },
  {
   "cell_type": "markdown",
   "metadata": {
    "id": "_OZmKyid9Qw0"
   },
   "source": [
    "## 4. Обучение модели\n",
    "\n",
    "Для полного счастья нам осталось сделать 2 вещи:\n",
    "1. Определить лосс\n",
    "2. Выбрать алгоритм оптимизации\n",
    "\n",
    "К счастью, нам снова ничего не нужно писать руками, а просто взять уже готовое из PyTorch"
   ]
  },
  {
   "cell_type": "code",
   "execution_count": null,
   "metadata": {
    "id": "wLfBOBIH9P66"
   },
   "outputs": [],
   "source": [
    "loss_fn = nn.CrossEntropyLoss() # В качестве лосса возьмем кросс-энтропию\n",
    "optimizer = torch.optim.SGD(model.parameters(), lr=1e-3) # возьмем страндартный алгоритм оптимизации - стохастический градиентный спуск"
   ]
  },
  {
   "cell_type": "code",
   "execution_count": null,
   "metadata": {
    "id": "O-_acOdhHTla"
   },
   "outputs": [],
   "source": [
    "def switch_grad_mode(model: nn.Module , requires_grad: bool=True):\n",
    "    for param in model.parameters():\n",
    "        param.requires_grad = requires_grad\n",
    "\n",
    "\n",
    "def switch_model_mode(model: nn.Module, train: bool=True):\n",
    "    if train:\n",
    "        model.train()\n",
    "    else:\n",
    "        model.eval()"
   ]
  },
  {
   "cell_type": "code",
   "execution_count": null,
   "metadata": {
    "id": "JW97Tx8xCa7F"
   },
   "outputs": [],
   "source": [
    "# сделаем все по красоте и вынесем в отдельную функцию train\n",
    "\n",
    "def train(dataloader, model, loss_fn, optimizer, device):\n",
    "    size = len(dataloader.dataset)\n",
    "    model = model.to(device)\n",
    "    # перед обучением не забываем перевести модель в режим train, чтобы она обновляла веса\n",
    "    switch_grad_mode(model, True)\n",
    "    switch_model_mode(model, True)\n",
    "    for batch, (X, y) in enumerate(dataloader):\n",
    "        X, y = X.to(device), y.to(device) # перекидываем батчи на нужное устройство\n",
    "\n",
    "        # Вычисляем лосс\n",
    "        pred = model(X) # делаем проход по функции forward\n",
    "        loss = loss_fn(pred, y)\n",
    "\n",
    "        # Теперь весь страшный алгоритм backprop, который был на лекции, скрыт от нас\n",
    "        optimizer.zero_grad() # перед тем как считать новые градиенты, стираем градиенты с предыдущей итерации обучения\n",
    "        loss.backward() # считаем градиенты\n",
    "        optimizer.step() # посчитав градиент, просим оптимизатор обновить аргументы\n",
    "\n",
    "        if batch % 100 == 0:\n",
    "            loss, current = loss.item(), batch * len(X)\n",
    "            print(f\"loss: {loss:>7f}  [{current:>5d}/{size:>5d}]\")"
   ]
  },
  {
   "cell_type": "code",
   "execution_count": null,
   "metadata": {
    "id": "FS66rohVEgAq"
   },
   "outputs": [],
   "source": [
    "# точно так же сделаем в отдельной функции тестирование модели\n",
    "\n",
    "def test(dataloader, model, loss_fn, device):\n",
    "    size = len(dataloader.dataset)\n",
    "    num_batches = len(dataloader)\n",
    "    test_loss, correct = 0, 0\n",
    "    # переводим модель в режим тестирования\n",
    "    # если вы используете валидацию, там нужно сделать то же самое\n",
    "    switch_grad_mode(model, requires_grad=False)\n",
    "    switch_model_mode(model, train=False)\n",
    "    for X, y in dataloader:\n",
    "        X, y = X.to(device), y.to(device)\n",
    "        pred = model(X)\n",
    "        test_loss += loss_fn(pred, y).item()\n",
    "        correct += (pred.argmax(1) == y).type(torch.float).sum().item()\n",
    "    test_loss /= num_batches\n",
    "    correct /= size\n",
    "    print(f\"Test Error: \\n Accuracy: {(100*correct):>0.1f}%, Avg loss: {test_loss:>8f} \\n\")"
   ]
  },
  {
   "cell_type": "code",
   "execution_count": null,
   "metadata": {
    "colab": {
     "base_uri": "https://localhost:8080/"
    },
    "executionInfo": {
     "elapsed": 58323,
     "status": "ok",
     "timestamp": 1635326939549,
     "user": {
      "displayName": "Elena Kartysheva",
      "photoUrl": "https://lh3.googleusercontent.com/a/default-user=s64",
      "userId": "02981934999259921969"
     },
     "user_tz": -180
    },
    "id": "HJceU_8gF7Jx",
    "outputId": "50d29a83-a3dd-4223-b5b1-9803fbca40c7"
   },
   "outputs": [
    {
     "name": "stdout",
     "output_type": "stream",
     "text": [
      "Epoch 1\n",
      "-------------------------------\n",
      "loss: 2.304680  [    0/60000]\n",
      "loss: 2.297548  [ 6400/60000]\n",
      "loss: 2.296875  [12800/60000]\n",
      "loss: 2.290167  [19200/60000]\n",
      "loss: 2.288169  [25600/60000]\n",
      "loss: 2.286131  [32000/60000]\n",
      "loss: 2.280017  [38400/60000]\n",
      "loss: 2.286523  [44800/60000]\n",
      "loss: 2.269412  [51200/60000]\n",
      "loss: 2.270993  [57600/60000]\n",
      "Test Error: \n",
      " Accuracy: 29.0%, Avg loss: 2.263272 \n",
      "\n",
      "Epoch 2\n",
      "-------------------------------\n",
      "loss: 2.263927  [    0/60000]\n",
      "loss: 2.269787  [ 6400/60000]\n",
      "loss: 2.252097  [12800/60000]\n",
      "loss: 2.246216  [19200/60000]\n",
      "loss: 2.241627  [25600/60000]\n",
      "loss: 2.234361  [32000/60000]\n",
      "loss: 2.237398  [38400/60000]\n",
      "loss: 2.227128  [44800/60000]\n",
      "loss: 2.224945  [51200/60000]\n",
      "loss: 2.208035  [57600/60000]\n",
      "Test Error: \n",
      " Accuracy: 57.9%, Avg loss: 2.204718 \n",
      "\n",
      "Epoch 3\n",
      "-------------------------------\n",
      "loss: 2.206100  [    0/60000]\n",
      "loss: 2.195406  [ 6400/60000]\n",
      "loss: 2.189339  [12800/60000]\n",
      "loss: 2.175092  [19200/60000]\n",
      "loss: 2.174679  [25600/60000]\n",
      "loss: 2.144530  [32000/60000]\n",
      "loss: 2.152577  [38400/60000]\n",
      "loss: 2.166860  [44800/60000]\n",
      "loss: 2.146193  [51200/60000]\n",
      "loss: 2.142454  [57600/60000]\n",
      "Test Error: \n",
      " Accuracy: 67.1%, Avg loss: 2.106248 \n",
      "\n",
      "Epoch 4\n",
      "-------------------------------\n",
      "loss: 2.106922  [    0/60000]\n",
      "loss: 2.112929  [ 6400/60000]\n",
      "loss: 2.058072  [12800/60000]\n",
      "loss: 2.057705  [19200/60000]\n",
      "loss: 2.054671  [25600/60000]\n",
      "loss: 2.015418  [32000/60000]\n",
      "loss: 2.028177  [38400/60000]\n",
      "loss: 1.998626  [44800/60000]\n",
      "loss: 1.959725  [51200/60000]\n",
      "loss: 2.014112  [57600/60000]\n",
      "Test Error: \n",
      " Accuracy: 70.7%, Avg loss: 1.931052 \n",
      "\n",
      "Epoch 5\n",
      "-------------------------------\n",
      "loss: 1.888678  [    0/60000]\n",
      "loss: 1.940021  [ 6400/60000]\n",
      "loss: 1.932958  [12800/60000]\n",
      "loss: 1.831278  [19200/60000]\n",
      "loss: 1.815706  [25600/60000]\n",
      "loss: 1.784953  [32000/60000]\n",
      "loss: 1.824554  [38400/60000]\n",
      "loss: 1.820139  [44800/60000]\n",
      "loss: 1.802199  [51200/60000]\n",
      "loss: 1.645640  [57600/60000]\n",
      "Test Error: \n",
      " Accuracy: 72.9%, Avg loss: 1.653713 \n",
      "\n",
      "Done!\n"
     ]
    }
   ],
   "source": [
    "epochs = 5\n",
    "model = NeuralNetwork()\n",
    "loss_fn = nn.CrossEntropyLoss() # В качестве лосса возьмем кросс-энтропию\n",
    "optimizer = torch.optim.SGD(model.parameters(), lr=1e-3) # возьмем страндартный алгоритм оптимизации - стохастический градиентный спуск\n",
    "device = torch.device(\"cuda\")\n",
    "for t in range(epochs):\n",
    "    print(f\"Epoch {t+1}\\n-------------------------------\")\n",
    "    train(train_dataloader, model, loss_fn, optimizer, device)\n",
    "    test(test_dataloader, model, loss_fn, device)\n",
    "print(\"Done!\")\n",
    "torch.save(model.state_dict(), 'model_weights.pth') # сохраним веса обученной модели"
   ]
  },
  {
   "cell_type": "code",
   "execution_count": null,
   "metadata": {
    "colab": {
     "base_uri": "https://localhost:8080/"
    },
    "executionInfo": {
     "elapsed": 2085,
     "status": "ok",
     "timestamp": 1635327064558,
     "user": {
      "displayName": "Elena Kartysheva",
      "photoUrl": "https://lh3.googleusercontent.com/a/default-user=s64",
      "userId": "02981934999259921969"
     },
     "user_tz": -180
    },
    "id": "-ynCkOhDLB4q",
    "outputId": "3732f05b-7f52-40b3-e868-0acaab1b8494"
   },
   "outputs": [
    {
     "name": "stdout",
     "output_type": "stream",
     "text": [
      "Test Error: \n",
      " Accuracy: 72.9%, Avg loss: 1.653327 \n",
      "\n"
     ]
    }
   ],
   "source": [
    "# чтобы загрузить сохранненые веса, необхомо сделать следующее\n",
    "model = NeuralNetwork()\n",
    "model.load_state_dict(torch.load('model_weights.pth'))\n",
    "test(test_dataloader, model, loss_fn, torch.device(\"cpu\"))"
   ]
  },
  {
   "cell_type": "markdown",
   "metadata": {
    "id": "LUk__4JR-7sE"
   },
   "source": [
    "# Задание\n",
    "\n",
    "Написать и обучить нейронную сеть на датасете FashionMNIST (10 баллов)\n",
    "1. Нейронная сеть должна иметь 5 линейных слоев. Выход 1го слоя должен иметь размер 256, 2го - 256, 3го - 128, 4го - 64.\n",
    "2. Между слоями должна быть функция активации ReLU\n",
    "3. Добавить валидацию на каждой 10 эпохе, печатать accuracy и loss на валидационной выборке\n",
    "4. Обучите минимум 20 эпох \n",
    "5. Построить график лосса на обучении (средний лосс за каждую эпоху)\n",
    "6. Построить график лосса и accuracy на валидации\n",
    "\n",
    "Решение необходимо прислать в отдельном ноутбуке\n",
    "\n",
    "\n",
    "Дополнительно:\n",
    "1. (2 балла) Добавить еще пару слоев и dropout\n",
    "2. (2 балла) Добавить early stopping\n",
    "3. (5 баллов) Напишите код из задания на TensorFlow или используйте в задании выше PyTorch Lightning"
   ]
  }
 ],
 "metadata": {
  "accelerator": "GPU",
  "colab": {
   "authorship_tag": "ABX9TyMNTbKFOtieaNgo9B6fiBhy",
   "collapsed_sections": [],
   "name": "practice_pytorch.ipynb",
   "provenance": []
  },
  "kernelspec": {
   "display_name": "Python 3 (ipykernel)",
   "language": "python",
   "name": "python3"
  },
  "language_info": {
   "codemirror_mode": {
    "name": "ipython",
    "version": 3
   },
   "file_extension": ".py",
   "mimetype": "text/x-python",
   "name": "python",
   "nbconvert_exporter": "python",
   "pygments_lexer": "ipython3",
   "version": "3.8.12"
  },
  "widgets": {
   "application/vnd.jupyter.widget-state+json": {
    "1b798a55a2c34f708d4021c27ec744c2": {
     "model_module": "@jupyter-widgets/controls",
     "model_module_version": "1.5.0",
     "model_name": "HTMLModel",
     "state": {
      "_dom_classes": [],
      "_model_module": "@jupyter-widgets/controls",
      "_model_module_version": "1.5.0",
      "_model_name": "HTMLModel",
      "_view_count": null,
      "_view_module": "@jupyter-widgets/controls",
      "_view_module_version": "1.5.0",
      "_view_name": "HTMLView",
      "description": "",
      "description_tooltip": null,
      "layout": "IPY_MODEL_600952dab26640f99d84230a916b507c",
      "placeholder": "​",
      "style": "IPY_MODEL_f9f189bb65e84e608dd591f992c9485f",
      "value": " 5120/? [00:00&lt;00:00, 113424.83it/s]"
     }
    },
    "1c5664e764ea402fa66ad9d5987d0354": {
     "model_module": "@jupyter-widgets/controls",
     "model_module_version": "1.5.0",
     "model_name": "FloatProgressModel",
     "state": {
      "_dom_classes": [],
      "_model_module": "@jupyter-widgets/controls",
      "_model_module_version": "1.5.0",
      "_model_name": "FloatProgressModel",
      "_view_count": null,
      "_view_module": "@jupyter-widgets/controls",
      "_view_module_version": "1.5.0",
      "_view_name": "ProgressView",
      "bar_style": "success",
      "description": "",
      "description_tooltip": null,
      "layout": "IPY_MODEL_dd5fbde69dab4d3db1914d7066869a9c",
      "max": 1648877,
      "min": 0,
      "orientation": "horizontal",
      "style": "IPY_MODEL_acf361d132da4fd9a30fd36bd353675d",
      "value": 1648877
     }
    },
    "2aca6345bbe941b08c9383df09e9dd3f": {
     "model_module": "@jupyter-widgets/controls",
     "model_module_version": "1.5.0",
     "model_name": "HTMLModel",
     "state": {
      "_dom_classes": [],
      "_model_module": "@jupyter-widgets/controls",
      "_model_module_version": "1.5.0",
      "_model_name": "HTMLModel",
      "_view_count": null,
      "_view_module": "@jupyter-widgets/controls",
      "_view_module_version": "1.5.0",
      "_view_name": "HTMLView",
      "description": "",
      "description_tooltip": null,
      "layout": "IPY_MODEL_3050e7fd9f8548d9bee0c3068111946a",
      "placeholder": "​",
      "style": "IPY_MODEL_f54131893b5a47678c837b18d15a0b5f",
      "value": ""
     }
    },
    "3050e7fd9f8548d9bee0c3068111946a": {
     "model_module": "@jupyter-widgets/base",
     "model_module_version": "1.2.0",
     "model_name": "LayoutModel",
     "state": {
      "_model_module": "@jupyter-widgets/base",
      "_model_module_version": "1.2.0",
      "_model_name": "LayoutModel",
      "_view_count": null,
      "_view_module": "@jupyter-widgets/base",
      "_view_module_version": "1.2.0",
      "_view_name": "LayoutView",
      "align_content": null,
      "align_items": null,
      "align_self": null,
      "border": null,
      "bottom": null,
      "display": null,
      "flex": null,
      "flex_flow": null,
      "grid_area": null,
      "grid_auto_columns": null,
      "grid_auto_flow": null,
      "grid_auto_rows": null,
      "grid_column": null,
      "grid_gap": null,
      "grid_row": null,
      "grid_template_areas": null,
      "grid_template_columns": null,
      "grid_template_rows": null,
      "height": null,
      "justify_content": null,
      "justify_items": null,
      "left": null,
      "margin": null,
      "max_height": null,
      "max_width": null,
      "min_height": null,
      "min_width": null,
      "object_fit": null,
      "object_position": null,
      "order": null,
      "overflow": null,
      "overflow_x": null,
      "overflow_y": null,
      "padding": null,
      "right": null,
      "top": null,
      "visibility": null,
      "width": null
     }
    },
    "3d09edc4154545f68d1c613dbcda2e8c": {
     "model_module": "@jupyter-widgets/base",
     "model_module_version": "1.2.0",
     "model_name": "LayoutModel",
     "state": {
      "_model_module": "@jupyter-widgets/base",
      "_model_module_version": "1.2.0",
      "_model_name": "LayoutModel",
      "_view_count": null,
      "_view_module": "@jupyter-widgets/base",
      "_view_module_version": "1.2.0",
      "_view_name": "LayoutView",
      "align_content": null,
      "align_items": null,
      "align_self": null,
      "border": null,
      "bottom": null,
      "display": null,
      "flex": null,
      "flex_flow": null,
      "grid_area": null,
      "grid_auto_columns": null,
      "grid_auto_flow": null,
      "grid_auto_rows": null,
      "grid_column": null,
      "grid_gap": null,
      "grid_row": null,
      "grid_template_areas": null,
      "grid_template_columns": null,
      "grid_template_rows": null,
      "height": null,
      "justify_content": null,
      "justify_items": null,
      "left": null,
      "margin": null,
      "max_height": null,
      "max_width": null,
      "min_height": null,
      "min_width": null,
      "object_fit": null,
      "object_position": null,
      "order": null,
      "overflow": null,
      "overflow_x": null,
      "overflow_y": null,
      "padding": null,
      "right": null,
      "top": null,
      "visibility": null,
      "width": null
     }
    },
    "421f9a6caf554eb59a8e59e06d5757a0": {
     "model_module": "@jupyter-widgets/base",
     "model_module_version": "1.2.0",
     "model_name": "LayoutModel",
     "state": {
      "_model_module": "@jupyter-widgets/base",
      "_model_module_version": "1.2.0",
      "_model_name": "LayoutModel",
      "_view_count": null,
      "_view_module": "@jupyter-widgets/base",
      "_view_module_version": "1.2.0",
      "_view_name": "LayoutView",
      "align_content": null,
      "align_items": null,
      "align_self": null,
      "border": null,
      "bottom": null,
      "display": null,
      "flex": null,
      "flex_flow": null,
      "grid_area": null,
      "grid_auto_columns": null,
      "grid_auto_flow": null,
      "grid_auto_rows": null,
      "grid_column": null,
      "grid_gap": null,
      "grid_row": null,
      "grid_template_areas": null,
      "grid_template_columns": null,
      "grid_template_rows": null,
      "height": null,
      "justify_content": null,
      "justify_items": null,
      "left": null,
      "margin": null,
      "max_height": null,
      "max_width": null,
      "min_height": null,
      "min_width": null,
      "object_fit": null,
      "object_position": null,
      "order": null,
      "overflow": null,
      "overflow_x": null,
      "overflow_y": null,
      "padding": null,
      "right": null,
      "top": null,
      "visibility": null,
      "width": null
     }
    },
    "42f6fc356b6546c2adc0d785b199efbc": {
     "model_module": "@jupyter-widgets/controls",
     "model_module_version": "1.5.0",
     "model_name": "ProgressStyleModel",
     "state": {
      "_model_module": "@jupyter-widgets/controls",
      "_model_module_version": "1.5.0",
      "_model_name": "ProgressStyleModel",
      "_view_count": null,
      "_view_module": "@jupyter-widgets/base",
      "_view_module_version": "1.2.0",
      "_view_name": "StyleView",
      "bar_color": null,
      "description_width": ""
     }
    },
    "4450ac8fdd2b4e7bb4ab721c4b36fe92": {
     "model_module": "@jupyter-widgets/controls",
     "model_module_version": "1.5.0",
     "model_name": "HBoxModel",
     "state": {
      "_dom_classes": [],
      "_model_module": "@jupyter-widgets/controls",
      "_model_module_version": "1.5.0",
      "_model_name": "HBoxModel",
      "_view_count": null,
      "_view_module": "@jupyter-widgets/controls",
      "_view_module_version": "1.5.0",
      "_view_name": "HBoxView",
      "box_style": "",
      "children": [
       "IPY_MODEL_5ca82f47e027457bace3f780326bb470",
       "IPY_MODEL_1c5664e764ea402fa66ad9d5987d0354",
       "IPY_MODEL_c582203a07744884beca33043f79d7e7"
      ],
      "layout": "IPY_MODEL_7a396ceac036499d8baeb54559c09879"
     }
    },
    "451aa0d7aeab49e1bc3e7bd4e0766f07": {
     "model_module": "@jupyter-widgets/controls",
     "model_module_version": "1.5.0",
     "model_name": "HTMLModel",
     "state": {
      "_dom_classes": [],
      "_model_module": "@jupyter-widgets/controls",
      "_model_module_version": "1.5.0",
      "_model_name": "HTMLModel",
      "_view_count": null,
      "_view_module": "@jupyter-widgets/controls",
      "_view_module_version": "1.5.0",
      "_view_name": "HTMLView",
      "description": "",
      "description_tooltip": null,
      "layout": "IPY_MODEL_3d09edc4154545f68d1c613dbcda2e8c",
      "placeholder": "​",
      "style": "IPY_MODEL_a79b4c12f5114880b700ed093c0b9dd3",
      "value": " 9913344/? [00:00&lt;00:00, 43371777.16it/s]"
     }
    },
    "494c44c90251463b830e8266fbfbc88a": {
     "model_module": "@jupyter-widgets/controls",
     "model_module_version": "1.5.0",
     "model_name": "DescriptionStyleModel",
     "state": {
      "_model_module": "@jupyter-widgets/controls",
      "_model_module_version": "1.5.0",
      "_model_name": "DescriptionStyleModel",
      "_view_count": null,
      "_view_module": "@jupyter-widgets/base",
      "_view_module_version": "1.2.0",
      "_view_name": "StyleView",
      "description_width": ""
     }
    },
    "50b9af7712cb495db9b43b3bea9a2bbc": {
     "model_module": "@jupyter-widgets/controls",
     "model_module_version": "1.5.0",
     "model_name": "ProgressStyleModel",
     "state": {
      "_model_module": "@jupyter-widgets/controls",
      "_model_module_version": "1.5.0",
      "_model_name": "ProgressStyleModel",
      "_view_count": null,
      "_view_module": "@jupyter-widgets/base",
      "_view_module_version": "1.2.0",
      "_view_name": "StyleView",
      "bar_color": null,
      "description_width": ""
     }
    },
    "5838f2b538cd42d7a18e93aee2035fbf": {
     "model_module": "@jupyter-widgets/controls",
     "model_module_version": "1.5.0",
     "model_name": "HTMLModel",
     "state": {
      "_dom_classes": [],
      "_model_module": "@jupyter-widgets/controls",
      "_model_module_version": "1.5.0",
      "_model_name": "HTMLModel",
      "_view_count": null,
      "_view_module": "@jupyter-widgets/controls",
      "_view_module_version": "1.5.0",
      "_view_name": "HTMLView",
      "description": "",
      "description_tooltip": null,
      "layout": "IPY_MODEL_c623ef30a30049beb9b67c1d07965139",
      "placeholder": "​",
      "style": "IPY_MODEL_f8a67a23fef344858680b4ac8bb76568",
      "value": " 29696/? [00:00&lt;00:00, 625902.90it/s]"
     }
    },
    "5b23d33628f94187861efc722368d43d": {
     "model_module": "@jupyter-widgets/base",
     "model_module_version": "1.2.0",
     "model_name": "LayoutModel",
     "state": {
      "_model_module": "@jupyter-widgets/base",
      "_model_module_version": "1.2.0",
      "_model_name": "LayoutModel",
      "_view_count": null,
      "_view_module": "@jupyter-widgets/base",
      "_view_module_version": "1.2.0",
      "_view_name": "LayoutView",
      "align_content": null,
      "align_items": null,
      "align_self": null,
      "border": null,
      "bottom": null,
      "display": null,
      "flex": null,
      "flex_flow": null,
      "grid_area": null,
      "grid_auto_columns": null,
      "grid_auto_flow": null,
      "grid_auto_rows": null,
      "grid_column": null,
      "grid_gap": null,
      "grid_row": null,
      "grid_template_areas": null,
      "grid_template_columns": null,
      "grid_template_rows": null,
      "height": null,
      "justify_content": null,
      "justify_items": null,
      "left": null,
      "margin": null,
      "max_height": null,
      "max_width": null,
      "min_height": null,
      "min_width": null,
      "object_fit": null,
      "object_position": null,
      "order": null,
      "overflow": null,
      "overflow_x": null,
      "overflow_y": null,
      "padding": null,
      "right": null,
      "top": null,
      "visibility": null,
      "width": null
     }
    },
    "5ca82f47e027457bace3f780326bb470": {
     "model_module": "@jupyter-widgets/controls",
     "model_module_version": "1.5.0",
     "model_name": "HTMLModel",
     "state": {
      "_dom_classes": [],
      "_model_module": "@jupyter-widgets/controls",
      "_model_module_version": "1.5.0",
      "_model_name": "HTMLModel",
      "_view_count": null,
      "_view_module": "@jupyter-widgets/controls",
      "_view_module_version": "1.5.0",
      "_view_name": "HTMLView",
      "description": "",
      "description_tooltip": null,
      "layout": "IPY_MODEL_f0e197bb2ba848549c0cda0dbd0532a6",
      "placeholder": "​",
      "style": "IPY_MODEL_de507b586548423fbc8f81e4803dc1c9",
      "value": ""
     }
    },
    "5e8d39d1f0bd4516954e89a50ac6d446": {
     "model_module": "@jupyter-widgets/base",
     "model_module_version": "1.2.0",
     "model_name": "LayoutModel",
     "state": {
      "_model_module": "@jupyter-widgets/base",
      "_model_module_version": "1.2.0",
      "_model_name": "LayoutModel",
      "_view_count": null,
      "_view_module": "@jupyter-widgets/base",
      "_view_module_version": "1.2.0",
      "_view_name": "LayoutView",
      "align_content": null,
      "align_items": null,
      "align_self": null,
      "border": null,
      "bottom": null,
      "display": null,
      "flex": null,
      "flex_flow": null,
      "grid_area": null,
      "grid_auto_columns": null,
      "grid_auto_flow": null,
      "grid_auto_rows": null,
      "grid_column": null,
      "grid_gap": null,
      "grid_row": null,
      "grid_template_areas": null,
      "grid_template_columns": null,
      "grid_template_rows": null,
      "height": null,
      "justify_content": null,
      "justify_items": null,
      "left": null,
      "margin": null,
      "max_height": null,
      "max_width": null,
      "min_height": null,
      "min_width": null,
      "object_fit": null,
      "object_position": null,
      "order": null,
      "overflow": null,
      "overflow_x": null,
      "overflow_y": null,
      "padding": null,
      "right": null,
      "top": null,
      "visibility": null,
      "width": null
     }
    },
    "5ffedc80417342a0a2a953b8cd606931": {
     "model_module": "@jupyter-widgets/controls",
     "model_module_version": "1.5.0",
     "model_name": "HBoxModel",
     "state": {
      "_dom_classes": [],
      "_model_module": "@jupyter-widgets/controls",
      "_model_module_version": "1.5.0",
      "_model_name": "HBoxModel",
      "_view_count": null,
      "_view_module": "@jupyter-widgets/controls",
      "_view_module_version": "1.5.0",
      "_view_name": "HBoxView",
      "box_style": "",
      "children": [
       "IPY_MODEL_f935a1905e7d4de28fc5f99e25fcd0a2",
       "IPY_MODEL_a34602c9aa2141d1a4f0e26bd952cce5",
       "IPY_MODEL_451aa0d7aeab49e1bc3e7bd4e0766f07"
      ],
      "layout": "IPY_MODEL_5b23d33628f94187861efc722368d43d"
     }
    },
    "600952dab26640f99d84230a916b507c": {
     "model_module": "@jupyter-widgets/base",
     "model_module_version": "1.2.0",
     "model_name": "LayoutModel",
     "state": {
      "_model_module": "@jupyter-widgets/base",
      "_model_module_version": "1.2.0",
      "_model_name": "LayoutModel",
      "_view_count": null,
      "_view_module": "@jupyter-widgets/base",
      "_view_module_version": "1.2.0",
      "_view_name": "LayoutView",
      "align_content": null,
      "align_items": null,
      "align_self": null,
      "border": null,
      "bottom": null,
      "display": null,
      "flex": null,
      "flex_flow": null,
      "grid_area": null,
      "grid_auto_columns": null,
      "grid_auto_flow": null,
      "grid_auto_rows": null,
      "grid_column": null,
      "grid_gap": null,
      "grid_row": null,
      "grid_template_areas": null,
      "grid_template_columns": null,
      "grid_template_rows": null,
      "height": null,
      "justify_content": null,
      "justify_items": null,
      "left": null,
      "margin": null,
      "max_height": null,
      "max_width": null,
      "min_height": null,
      "min_width": null,
      "object_fit": null,
      "object_position": null,
      "order": null,
      "overflow": null,
      "overflow_x": null,
      "overflow_y": null,
      "padding": null,
      "right": null,
      "top": null,
      "visibility": null,
      "width": null
     }
    },
    "698a708f25244ce28ba07ed8c35ea1a3": {
     "model_module": "@jupyter-widgets/base",
     "model_module_version": "1.2.0",
     "model_name": "LayoutModel",
     "state": {
      "_model_module": "@jupyter-widgets/base",
      "_model_module_version": "1.2.0",
      "_model_name": "LayoutModel",
      "_view_count": null,
      "_view_module": "@jupyter-widgets/base",
      "_view_module_version": "1.2.0",
      "_view_name": "LayoutView",
      "align_content": null,
      "align_items": null,
      "align_self": null,
      "border": null,
      "bottom": null,
      "display": null,
      "flex": null,
      "flex_flow": null,
      "grid_area": null,
      "grid_auto_columns": null,
      "grid_auto_flow": null,
      "grid_auto_rows": null,
      "grid_column": null,
      "grid_gap": null,
      "grid_row": null,
      "grid_template_areas": null,
      "grid_template_columns": null,
      "grid_template_rows": null,
      "height": null,
      "justify_content": null,
      "justify_items": null,
      "left": null,
      "margin": null,
      "max_height": null,
      "max_width": null,
      "min_height": null,
      "min_width": null,
      "object_fit": null,
      "object_position": null,
      "order": null,
      "overflow": null,
      "overflow_x": null,
      "overflow_y": null,
      "padding": null,
      "right": null,
      "top": null,
      "visibility": null,
      "width": null
     }
    },
    "6a0dc9b8e3a24128a2dd2551a38b6dd9": {
     "model_module": "@jupyter-widgets/controls",
     "model_module_version": "1.5.0",
     "model_name": "HTMLModel",
     "state": {
      "_dom_classes": [],
      "_model_module": "@jupyter-widgets/controls",
      "_model_module_version": "1.5.0",
      "_model_name": "HTMLModel",
      "_view_count": null,
      "_view_module": "@jupyter-widgets/controls",
      "_view_module_version": "1.5.0",
      "_view_name": "HTMLView",
      "description": "",
      "description_tooltip": null,
      "layout": "IPY_MODEL_a1e7c47fe21c4497bd468fb27282cd24",
      "placeholder": "​",
      "style": "IPY_MODEL_e6ebcaec4d114cc49ef8940ce363fc1e",
      "value": ""
     }
    },
    "70c2f6d42a9e4a0dbda3908c0d8c1da4": {
     "model_module": "@jupyter-widgets/base",
     "model_module_version": "1.2.0",
     "model_name": "LayoutModel",
     "state": {
      "_model_module": "@jupyter-widgets/base",
      "_model_module_version": "1.2.0",
      "_model_name": "LayoutModel",
      "_view_count": null,
      "_view_module": "@jupyter-widgets/base",
      "_view_module_version": "1.2.0",
      "_view_name": "LayoutView",
      "align_content": null,
      "align_items": null,
      "align_self": null,
      "border": null,
      "bottom": null,
      "display": null,
      "flex": null,
      "flex_flow": null,
      "grid_area": null,
      "grid_auto_columns": null,
      "grid_auto_flow": null,
      "grid_auto_rows": null,
      "grid_column": null,
      "grid_gap": null,
      "grid_row": null,
      "grid_template_areas": null,
      "grid_template_columns": null,
      "grid_template_rows": null,
      "height": null,
      "justify_content": null,
      "justify_items": null,
      "left": null,
      "margin": null,
      "max_height": null,
      "max_width": null,
      "min_height": null,
      "min_width": null,
      "object_fit": null,
      "object_position": null,
      "order": null,
      "overflow": null,
      "overflow_x": null,
      "overflow_y": null,
      "padding": null,
      "right": null,
      "top": null,
      "visibility": null,
      "width": null
     }
    },
    "7a396ceac036499d8baeb54559c09879": {
     "model_module": "@jupyter-widgets/base",
     "model_module_version": "1.2.0",
     "model_name": "LayoutModel",
     "state": {
      "_model_module": "@jupyter-widgets/base",
      "_model_module_version": "1.2.0",
      "_model_name": "LayoutModel",
      "_view_count": null,
      "_view_module": "@jupyter-widgets/base",
      "_view_module_version": "1.2.0",
      "_view_name": "LayoutView",
      "align_content": null,
      "align_items": null,
      "align_self": null,
      "border": null,
      "bottom": null,
      "display": null,
      "flex": null,
      "flex_flow": null,
      "grid_area": null,
      "grid_auto_columns": null,
      "grid_auto_flow": null,
      "grid_auto_rows": null,
      "grid_column": null,
      "grid_gap": null,
      "grid_row": null,
      "grid_template_areas": null,
      "grid_template_columns": null,
      "grid_template_rows": null,
      "height": null,
      "justify_content": null,
      "justify_items": null,
      "left": null,
      "margin": null,
      "max_height": null,
      "max_width": null,
      "min_height": null,
      "min_width": null,
      "object_fit": null,
      "object_position": null,
      "order": null,
      "overflow": null,
      "overflow_x": null,
      "overflow_y": null,
      "padding": null,
      "right": null,
      "top": null,
      "visibility": null,
      "width": null
     }
    },
    "86e812f066c543d49e62be361841a3a3": {
     "model_module": "@jupyter-widgets/controls",
     "model_module_version": "1.5.0",
     "model_name": "ProgressStyleModel",
     "state": {
      "_model_module": "@jupyter-widgets/controls",
      "_model_module_version": "1.5.0",
      "_model_name": "ProgressStyleModel",
      "_view_count": null,
      "_view_module": "@jupyter-widgets/base",
      "_view_module_version": "1.2.0",
      "_view_name": "StyleView",
      "bar_color": null,
      "description_width": ""
     }
    },
    "918e2e661ce84985b8dc92d4a974a215": {
     "model_module": "@jupyter-widgets/controls",
     "model_module_version": "1.5.0",
     "model_name": "FloatProgressModel",
     "state": {
      "_dom_classes": [],
      "_model_module": "@jupyter-widgets/controls",
      "_model_module_version": "1.5.0",
      "_model_name": "FloatProgressModel",
      "_view_count": null,
      "_view_module": "@jupyter-widgets/controls",
      "_view_module_version": "1.5.0",
      "_view_name": "ProgressView",
      "bar_style": "success",
      "description": "",
      "description_tooltip": null,
      "layout": "IPY_MODEL_698a708f25244ce28ba07ed8c35ea1a3",
      "max": 28881,
      "min": 0,
      "orientation": "horizontal",
      "style": "IPY_MODEL_50b9af7712cb495db9b43b3bea9a2bbc",
      "value": 28881
     }
    },
    "9399b6eeb23f4c9e9e3af1e5d662fc4e": {
     "model_module": "@jupyter-widgets/controls",
     "model_module_version": "1.5.0",
     "model_name": "DescriptionStyleModel",
     "state": {
      "_model_module": "@jupyter-widgets/controls",
      "_model_module_version": "1.5.0",
      "_model_name": "DescriptionStyleModel",
      "_view_count": null,
      "_view_module": "@jupyter-widgets/base",
      "_view_module_version": "1.2.0",
      "_view_name": "StyleView",
      "description_width": ""
     }
    },
    "a1e7c47fe21c4497bd468fb27282cd24": {
     "model_module": "@jupyter-widgets/base",
     "model_module_version": "1.2.0",
     "model_name": "LayoutModel",
     "state": {
      "_model_module": "@jupyter-widgets/base",
      "_model_module_version": "1.2.0",
      "_model_name": "LayoutModel",
      "_view_count": null,
      "_view_module": "@jupyter-widgets/base",
      "_view_module_version": "1.2.0",
      "_view_name": "LayoutView",
      "align_content": null,
      "align_items": null,
      "align_self": null,
      "border": null,
      "bottom": null,
      "display": null,
      "flex": null,
      "flex_flow": null,
      "grid_area": null,
      "grid_auto_columns": null,
      "grid_auto_flow": null,
      "grid_auto_rows": null,
      "grid_column": null,
      "grid_gap": null,
      "grid_row": null,
      "grid_template_areas": null,
      "grid_template_columns": null,
      "grid_template_rows": null,
      "height": null,
      "justify_content": null,
      "justify_items": null,
      "left": null,
      "margin": null,
      "max_height": null,
      "max_width": null,
      "min_height": null,
      "min_width": null,
      "object_fit": null,
      "object_position": null,
      "order": null,
      "overflow": null,
      "overflow_x": null,
      "overflow_y": null,
      "padding": null,
      "right": null,
      "top": null,
      "visibility": null,
      "width": null
     }
    },
    "a34602c9aa2141d1a4f0e26bd952cce5": {
     "model_module": "@jupyter-widgets/controls",
     "model_module_version": "1.5.0",
     "model_name": "FloatProgressModel",
     "state": {
      "_dom_classes": [],
      "_model_module": "@jupyter-widgets/controls",
      "_model_module_version": "1.5.0",
      "_model_name": "FloatProgressModel",
      "_view_count": null,
      "_view_module": "@jupyter-widgets/controls",
      "_view_module_version": "1.5.0",
      "_view_name": "ProgressView",
      "bar_style": "success",
      "description": "",
      "description_tooltip": null,
      "layout": "IPY_MODEL_70c2f6d42a9e4a0dbda3908c0d8c1da4",
      "max": 9912422,
      "min": 0,
      "orientation": "horizontal",
      "style": "IPY_MODEL_42f6fc356b6546c2adc0d785b199efbc",
      "value": 9912422
     }
    },
    "a79b4c12f5114880b700ed093c0b9dd3": {
     "model_module": "@jupyter-widgets/controls",
     "model_module_version": "1.5.0",
     "model_name": "DescriptionStyleModel",
     "state": {
      "_model_module": "@jupyter-widgets/controls",
      "_model_module_version": "1.5.0",
      "_model_name": "DescriptionStyleModel",
      "_view_count": null,
      "_view_module": "@jupyter-widgets/base",
      "_view_module_version": "1.2.0",
      "_view_name": "StyleView",
      "description_width": ""
     }
    },
    "acf361d132da4fd9a30fd36bd353675d": {
     "model_module": "@jupyter-widgets/controls",
     "model_module_version": "1.5.0",
     "model_name": "ProgressStyleModel",
     "state": {
      "_model_module": "@jupyter-widgets/controls",
      "_model_module_version": "1.5.0",
      "_model_name": "ProgressStyleModel",
      "_view_count": null,
      "_view_module": "@jupyter-widgets/base",
      "_view_module_version": "1.2.0",
      "_view_name": "StyleView",
      "bar_color": null,
      "description_width": ""
     }
    },
    "c582203a07744884beca33043f79d7e7": {
     "model_module": "@jupyter-widgets/controls",
     "model_module_version": "1.5.0",
     "model_name": "HTMLModel",
     "state": {
      "_dom_classes": [],
      "_model_module": "@jupyter-widgets/controls",
      "_model_module_version": "1.5.0",
      "_model_name": "HTMLModel",
      "_view_count": null,
      "_view_module": "@jupyter-widgets/controls",
      "_view_module_version": "1.5.0",
      "_view_name": "HTMLView",
      "description": "",
      "description_tooltip": null,
      "layout": "IPY_MODEL_421f9a6caf554eb59a8e59e06d5757a0",
      "placeholder": "​",
      "style": "IPY_MODEL_494c44c90251463b830e8266fbfbc88a",
      "value": " 1649664/? [00:00&lt;00:00, 8227923.95it/s]"
     }
    },
    "c623ef30a30049beb9b67c1d07965139": {
     "model_module": "@jupyter-widgets/base",
     "model_module_version": "1.2.0",
     "model_name": "LayoutModel",
     "state": {
      "_model_module": "@jupyter-widgets/base",
      "_model_module_version": "1.2.0",
      "_model_name": "LayoutModel",
      "_view_count": null,
      "_view_module": "@jupyter-widgets/base",
      "_view_module_version": "1.2.0",
      "_view_name": "LayoutView",
      "align_content": null,
      "align_items": null,
      "align_self": null,
      "border": null,
      "bottom": null,
      "display": null,
      "flex": null,
      "flex_flow": null,
      "grid_area": null,
      "grid_auto_columns": null,
      "grid_auto_flow": null,
      "grid_auto_rows": null,
      "grid_column": null,
      "grid_gap": null,
      "grid_row": null,
      "grid_template_areas": null,
      "grid_template_columns": null,
      "grid_template_rows": null,
      "height": null,
      "justify_content": null,
      "justify_items": null,
      "left": null,
      "margin": null,
      "max_height": null,
      "max_width": null,
      "min_height": null,
      "min_width": null,
      "object_fit": null,
      "object_position": null,
      "order": null,
      "overflow": null,
      "overflow_x": null,
      "overflow_y": null,
      "padding": null,
      "right": null,
      "top": null,
      "visibility": null,
      "width": null
     }
    },
    "d10e823a190a40118e9b896c95048933": {
     "model_module": "@jupyter-widgets/controls",
     "model_module_version": "1.5.0",
     "model_name": "FloatProgressModel",
     "state": {
      "_dom_classes": [],
      "_model_module": "@jupyter-widgets/controls",
      "_model_module_version": "1.5.0",
      "_model_name": "FloatProgressModel",
      "_view_count": null,
      "_view_module": "@jupyter-widgets/controls",
      "_view_module_version": "1.5.0",
      "_view_name": "ProgressView",
      "bar_style": "success",
      "description": "",
      "description_tooltip": null,
      "layout": "IPY_MODEL_efa74317f84745fd80c8c97420ec95e2",
      "max": 4542,
      "min": 0,
      "orientation": "horizontal",
      "style": "IPY_MODEL_86e812f066c543d49e62be361841a3a3",
      "value": 4542
     }
    },
    "d8105c550eb34ab480380e37276f6299": {
     "model_module": "@jupyter-widgets/controls",
     "model_module_version": "1.5.0",
     "model_name": "HBoxModel",
     "state": {
      "_dom_classes": [],
      "_model_module": "@jupyter-widgets/controls",
      "_model_module_version": "1.5.0",
      "_model_name": "HBoxModel",
      "_view_count": null,
      "_view_module": "@jupyter-widgets/controls",
      "_view_module_version": "1.5.0",
      "_view_name": "HBoxView",
      "box_style": "",
      "children": [
       "IPY_MODEL_6a0dc9b8e3a24128a2dd2551a38b6dd9",
       "IPY_MODEL_d10e823a190a40118e9b896c95048933",
       "IPY_MODEL_1b798a55a2c34f708d4021c27ec744c2"
      ],
      "layout": "IPY_MODEL_dc135590064e436d9a6312ec1b3f33b0"
     }
    },
    "dc135590064e436d9a6312ec1b3f33b0": {
     "model_module": "@jupyter-widgets/base",
     "model_module_version": "1.2.0",
     "model_name": "LayoutModel",
     "state": {
      "_model_module": "@jupyter-widgets/base",
      "_model_module_version": "1.2.0",
      "_model_name": "LayoutModel",
      "_view_count": null,
      "_view_module": "@jupyter-widgets/base",
      "_view_module_version": "1.2.0",
      "_view_name": "LayoutView",
      "align_content": null,
      "align_items": null,
      "align_self": null,
      "border": null,
      "bottom": null,
      "display": null,
      "flex": null,
      "flex_flow": null,
      "grid_area": null,
      "grid_auto_columns": null,
      "grid_auto_flow": null,
      "grid_auto_rows": null,
      "grid_column": null,
      "grid_gap": null,
      "grid_row": null,
      "grid_template_areas": null,
      "grid_template_columns": null,
      "grid_template_rows": null,
      "height": null,
      "justify_content": null,
      "justify_items": null,
      "left": null,
      "margin": null,
      "max_height": null,
      "max_width": null,
      "min_height": null,
      "min_width": null,
      "object_fit": null,
      "object_position": null,
      "order": null,
      "overflow": null,
      "overflow_x": null,
      "overflow_y": null,
      "padding": null,
      "right": null,
      "top": null,
      "visibility": null,
      "width": null
     }
    },
    "dd5fbde69dab4d3db1914d7066869a9c": {
     "model_module": "@jupyter-widgets/base",
     "model_module_version": "1.2.0",
     "model_name": "LayoutModel",
     "state": {
      "_model_module": "@jupyter-widgets/base",
      "_model_module_version": "1.2.0",
      "_model_name": "LayoutModel",
      "_view_count": null,
      "_view_module": "@jupyter-widgets/base",
      "_view_module_version": "1.2.0",
      "_view_name": "LayoutView",
      "align_content": null,
      "align_items": null,
      "align_self": null,
      "border": null,
      "bottom": null,
      "display": null,
      "flex": null,
      "flex_flow": null,
      "grid_area": null,
      "grid_auto_columns": null,
      "grid_auto_flow": null,
      "grid_auto_rows": null,
      "grid_column": null,
      "grid_gap": null,
      "grid_row": null,
      "grid_template_areas": null,
      "grid_template_columns": null,
      "grid_template_rows": null,
      "height": null,
      "justify_content": null,
      "justify_items": null,
      "left": null,
      "margin": null,
      "max_height": null,
      "max_width": null,
      "min_height": null,
      "min_width": null,
      "object_fit": null,
      "object_position": null,
      "order": null,
      "overflow": null,
      "overflow_x": null,
      "overflow_y": null,
      "padding": null,
      "right": null,
      "top": null,
      "visibility": null,
      "width": null
     }
    },
    "de507b586548423fbc8f81e4803dc1c9": {
     "model_module": "@jupyter-widgets/controls",
     "model_module_version": "1.5.0",
     "model_name": "DescriptionStyleModel",
     "state": {
      "_model_module": "@jupyter-widgets/controls",
      "_model_module_version": "1.5.0",
      "_model_name": "DescriptionStyleModel",
      "_view_count": null,
      "_view_module": "@jupyter-widgets/base",
      "_view_module_version": "1.2.0",
      "_view_name": "StyleView",
      "description_width": ""
     }
    },
    "e6ebcaec4d114cc49ef8940ce363fc1e": {
     "model_module": "@jupyter-widgets/controls",
     "model_module_version": "1.5.0",
     "model_name": "DescriptionStyleModel",
     "state": {
      "_model_module": "@jupyter-widgets/controls",
      "_model_module_version": "1.5.0",
      "_model_name": "DescriptionStyleModel",
      "_view_count": null,
      "_view_module": "@jupyter-widgets/base",
      "_view_module_version": "1.2.0",
      "_view_name": "StyleView",
      "description_width": ""
     }
    },
    "efa74317f84745fd80c8c97420ec95e2": {
     "model_module": "@jupyter-widgets/base",
     "model_module_version": "1.2.0",
     "model_name": "LayoutModel",
     "state": {
      "_model_module": "@jupyter-widgets/base",
      "_model_module_version": "1.2.0",
      "_model_name": "LayoutModel",
      "_view_count": null,
      "_view_module": "@jupyter-widgets/base",
      "_view_module_version": "1.2.0",
      "_view_name": "LayoutView",
      "align_content": null,
      "align_items": null,
      "align_self": null,
      "border": null,
      "bottom": null,
      "display": null,
      "flex": null,
      "flex_flow": null,
      "grid_area": null,
      "grid_auto_columns": null,
      "grid_auto_flow": null,
      "grid_auto_rows": null,
      "grid_column": null,
      "grid_gap": null,
      "grid_row": null,
      "grid_template_areas": null,
      "grid_template_columns": null,
      "grid_template_rows": null,
      "height": null,
      "justify_content": null,
      "justify_items": null,
      "left": null,
      "margin": null,
      "max_height": null,
      "max_width": null,
      "min_height": null,
      "min_width": null,
      "object_fit": null,
      "object_position": null,
      "order": null,
      "overflow": null,
      "overflow_x": null,
      "overflow_y": null,
      "padding": null,
      "right": null,
      "top": null,
      "visibility": null,
      "width": null
     }
    },
    "f0e197bb2ba848549c0cda0dbd0532a6": {
     "model_module": "@jupyter-widgets/base",
     "model_module_version": "1.2.0",
     "model_name": "LayoutModel",
     "state": {
      "_model_module": "@jupyter-widgets/base",
      "_model_module_version": "1.2.0",
      "_model_name": "LayoutModel",
      "_view_count": null,
      "_view_module": "@jupyter-widgets/base",
      "_view_module_version": "1.2.0",
      "_view_name": "LayoutView",
      "align_content": null,
      "align_items": null,
      "align_self": null,
      "border": null,
      "bottom": null,
      "display": null,
      "flex": null,
      "flex_flow": null,
      "grid_area": null,
      "grid_auto_columns": null,
      "grid_auto_flow": null,
      "grid_auto_rows": null,
      "grid_column": null,
      "grid_gap": null,
      "grid_row": null,
      "grid_template_areas": null,
      "grid_template_columns": null,
      "grid_template_rows": null,
      "height": null,
      "justify_content": null,
      "justify_items": null,
      "left": null,
      "margin": null,
      "max_height": null,
      "max_width": null,
      "min_height": null,
      "min_width": null,
      "object_fit": null,
      "object_position": null,
      "order": null,
      "overflow": null,
      "overflow_x": null,
      "overflow_y": null,
      "padding": null,
      "right": null,
      "top": null,
      "visibility": null,
      "width": null
     }
    },
    "f4cff92c86c2452ca76f2664ee70aec9": {
     "model_module": "@jupyter-widgets/controls",
     "model_module_version": "1.5.0",
     "model_name": "HBoxModel",
     "state": {
      "_dom_classes": [],
      "_model_module": "@jupyter-widgets/controls",
      "_model_module_version": "1.5.0",
      "_model_name": "HBoxModel",
      "_view_count": null,
      "_view_module": "@jupyter-widgets/controls",
      "_view_module_version": "1.5.0",
      "_view_name": "HBoxView",
      "box_style": "",
      "children": [
       "IPY_MODEL_2aca6345bbe941b08c9383df09e9dd3f",
       "IPY_MODEL_918e2e661ce84985b8dc92d4a974a215",
       "IPY_MODEL_5838f2b538cd42d7a18e93aee2035fbf"
      ],
      "layout": "IPY_MODEL_5e8d39d1f0bd4516954e89a50ac6d446"
     }
    },
    "f54131893b5a47678c837b18d15a0b5f": {
     "model_module": "@jupyter-widgets/controls",
     "model_module_version": "1.5.0",
     "model_name": "DescriptionStyleModel",
     "state": {
      "_model_module": "@jupyter-widgets/controls",
      "_model_module_version": "1.5.0",
      "_model_name": "DescriptionStyleModel",
      "_view_count": null,
      "_view_module": "@jupyter-widgets/base",
      "_view_module_version": "1.2.0",
      "_view_name": "StyleView",
      "description_width": ""
     }
    },
    "f8a67a23fef344858680b4ac8bb76568": {
     "model_module": "@jupyter-widgets/controls",
     "model_module_version": "1.5.0",
     "model_name": "DescriptionStyleModel",
     "state": {
      "_model_module": "@jupyter-widgets/controls",
      "_model_module_version": "1.5.0",
      "_model_name": "DescriptionStyleModel",
      "_view_count": null,
      "_view_module": "@jupyter-widgets/base",
      "_view_module_version": "1.2.0",
      "_view_name": "StyleView",
      "description_width": ""
     }
    },
    "f935a1905e7d4de28fc5f99e25fcd0a2": {
     "model_module": "@jupyter-widgets/controls",
     "model_module_version": "1.5.0",
     "model_name": "HTMLModel",
     "state": {
      "_dom_classes": [],
      "_model_module": "@jupyter-widgets/controls",
      "_model_module_version": "1.5.0",
      "_model_name": "HTMLModel",
      "_view_count": null,
      "_view_module": "@jupyter-widgets/controls",
      "_view_module_version": "1.5.0",
      "_view_name": "HTMLView",
      "description": "",
      "description_tooltip": null,
      "layout": "IPY_MODEL_f95929b6b723453aa94dad7a7309a832",
      "placeholder": "​",
      "style": "IPY_MODEL_9399b6eeb23f4c9e9e3af1e5d662fc4e",
      "value": ""
     }
    },
    "f95929b6b723453aa94dad7a7309a832": {
     "model_module": "@jupyter-widgets/base",
     "model_module_version": "1.2.0",
     "model_name": "LayoutModel",
     "state": {
      "_model_module": "@jupyter-widgets/base",
      "_model_module_version": "1.2.0",
      "_model_name": "LayoutModel",
      "_view_count": null,
      "_view_module": "@jupyter-widgets/base",
      "_view_module_version": "1.2.0",
      "_view_name": "LayoutView",
      "align_content": null,
      "align_items": null,
      "align_self": null,
      "border": null,
      "bottom": null,
      "display": null,
      "flex": null,
      "flex_flow": null,
      "grid_area": null,
      "grid_auto_columns": null,
      "grid_auto_flow": null,
      "grid_auto_rows": null,
      "grid_column": null,
      "grid_gap": null,
      "grid_row": null,
      "grid_template_areas": null,
      "grid_template_columns": null,
      "grid_template_rows": null,
      "height": null,
      "justify_content": null,
      "justify_items": null,
      "left": null,
      "margin": null,
      "max_height": null,
      "max_width": null,
      "min_height": null,
      "min_width": null,
      "object_fit": null,
      "object_position": null,
      "order": null,
      "overflow": null,
      "overflow_x": null,
      "overflow_y": null,
      "padding": null,
      "right": null,
      "top": null,
      "visibility": null,
      "width": null
     }
    },
    "f9f189bb65e84e608dd591f992c9485f": {
     "model_module": "@jupyter-widgets/controls",
     "model_module_version": "1.5.0",
     "model_name": "DescriptionStyleModel",
     "state": {
      "_model_module": "@jupyter-widgets/controls",
      "_model_module_version": "1.5.0",
      "_model_name": "DescriptionStyleModel",
      "_view_count": null,
      "_view_module": "@jupyter-widgets/base",
      "_view_module_version": "1.2.0",
      "_view_name": "StyleView",
      "description_width": ""
     }
    }
   }
  }
 },
 "nbformat": 4,
 "nbformat_minor": 1
}
