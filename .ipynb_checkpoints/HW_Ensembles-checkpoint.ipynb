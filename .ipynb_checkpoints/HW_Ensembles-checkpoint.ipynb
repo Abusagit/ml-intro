{
 "cells": [
  {
   "cell_type": "markdown",
   "metadata": {},
   "source": [
    "# Случайные леса\n",
    "__Суммарное количество баллов: 10__\n",
    "\n",
    "В этом задании вам предстоит реализовать ансамбль деревьев решений, известный как случайный лес, применить его к публичным данным и сравнить его эффективность с ансамблями из самых популярных библиотек."
   ]
  },
  {
   "cell_type": "code",
   "execution_count": 1,
   "metadata": {},
   "outputs": [],
   "source": [
    "from tqdm.notebook import tqdm\n",
    "from sklearn.model_selection import train_test_split\n",
    "import numpy as np\n",
    "import pandas as pd\n",
    "import random\n",
    "import matplotlib.pyplot as plt\n",
    "import matplotlib\n",
    "import copy"
   ]
  },
  {
   "cell_type": "markdown",
   "metadata": {},
   "source": [
    "Реализуем сам Random Forest. Идея очень простая: строим `n` деревьев, а затем берем модальное предсказание. Используйте реализацию дерева из HW3.\n",
    "\n",
    "#### Параметры конструктора\n",
    "`n_estimators` - количество используемых для предсказания деревьев.\n",
    "\n",
    "Остальное - параметры деревьев.\n",
    "\n",
    "#### Методы\n",
    "`fit(X, y)` - строит `n_estimators` деревьев по выборке `X`.\n",
    "\n",
    "`predict(X)` - для каждого элемента выборки `X` возвращает самый частый класс, который предсказывают для него деревья."
   ]
  },
  {
   "cell_type": "markdown",
   "metadata": {},
   "source": [
    "### Реализация Decision Tree из прошлого ДЗ"
   ]
  },
  {
   "cell_type": "code",
   "execution_count": 107,
   "metadata": {},
   "outputs": [],
   "source": [
    "def gini(x):\n",
    "    criterion_sum = 0\n",
    "    \n",
    "    overall_amount = len(x)\n",
    "    \n",
    "    for class_members_amount in x.value_counts():\n",
    "        prob = class_members_amount / overall_amount\n",
    "        \n",
    "        criterion_sum += prob * (1 - prob)\n",
    "        \n",
    "    return criterion_sum\n",
    "    \n",
    "def entropy(x):\n",
    "    criterion_sum = 0\n",
    "    \n",
    "    overall_amount = len(x)\n",
    "    \n",
    "    for class_members_amount in x.value_counts():\n",
    "        \n",
    "        prob = class_members_amount / overall_amount\n",
    "        \n",
    "        criterion_sum += prob * np.log2(prob)\n",
    "    \n",
    "    return - criterion_sum\n",
    "\n",
    "def gain(left_right, left_y, right_y, criterion, s_total):\n",
    "    \n",
    "    s_node = len(left_right)\n",
    "    \n",
    "    impurity_left = criterion(left_y)\n",
    "    impurity_right = criterion(right_y)\n",
    "    \n",
    "    information_gain = s_node / s_total * criterion(left_right) - len(left_y) / s_total * criterion(left_y) - len(right_y) / s_total * criterion(right_y)\n",
    "    \n",
    "    \n",
    "    split_info = 0\n",
    "    \n",
    "    for unique_feature, count in zip(left_right.value_counts().index, left_right.value_counts()):\n",
    "        split_info -= count / s_node * np.log2(count / s_node)\n",
    "    \n",
    "    gain_ratio = information_gain / split_info\n",
    "    \n",
    "    return gain_ratio\n",
    "\n",
    "\n",
    "class DecisionTreeLeaf:\n",
    "    def __init__(self, data, labels, predecessor):\n",
    "        self.y = labels.value_counts().index[0]\n",
    "        self.data = data\n",
    "        self.labels = labels\n",
    "        self.size = len(self.labels)\n",
    "        self.depth = predecessor.depth + 1\n",
    "        self.predecessor = predecessor\n",
    "        \n",
    "        self.class_probs = None\n",
    "    \n",
    "    def process_leaf_instance(self):\n",
    "        classes_descending_order = self.labels.value_counts().index.tolist()\n",
    "        classes_probabilities = self.labels.value_counts() / self.labels.shape[0]\n",
    "        self.class_probs = dict(zip(classes_descending_order, classes_probabilities))\n",
    "    \n",
    "\n",
    "\n",
    "class DecisionTreeNode:\n",
    "    def __init__(self, data, labels, predecessor=None, depth=1):\n",
    "        self.split_dim = None\n",
    "        self.split_value = None\n",
    "        \n",
    "        self.left = None\n",
    "        self.right = None\n",
    "        self.predecessor = predecessor\n",
    "        self.depth = predecessor.depth + 1 if predecessor else depth\n",
    "        \n",
    "        self.data = data\n",
    "        self.labels = labels\n",
    "        \n",
    "\n",
    "\n",
    "class DecisionTreeClassifier:\n",
    "    def __init__(self, criterion=\"gini\", max_depth=None, min_samples_leaf=1):\n",
    "        self.root = None\n",
    "        self.overall_samples_amount = None\n",
    "        \n",
    "        self.max_depth = max_depth or float(\"inf\")\n",
    "        self.min_samples_leaf = min_samples_leaf\n",
    "        self.criterion = DecisionTreeClassifier.criterias(criterion)\n",
    "    \n",
    "    @classmethod\n",
    "    def criterias(cls, criterion):\n",
    "        CRITERIA = {\"gini\": gini, \"entropy\": entropy}\n",
    "        \n",
    "        return CRITERIA[criterion]\n",
    "        \n",
    "    \n",
    "    def fit(self, X, y):\n",
    "        self.root = DecisionTreeNode(data=X, labels=y) # по умолчанию, так как будем делить дерево\n",
    "        self.overall_samples_amount = len(y)\n",
    "        self.num_of_classes = len(set(y))\n",
    "        \n",
    "        \n",
    "        split_dim, split_value = self.get_most_informative_split(X, y)\n",
    "        \n",
    "        \n",
    "        self.root.split_dim = split_dim\n",
    "        self.root.split_value = split_value\n",
    "        \n",
    "        \n",
    "        self.split_dataframe(self.root, X, y)\n",
    "        \n",
    "        self.split_node(self.root.left)\n",
    "        self.split_node(self.root.right)\n",
    "        \n",
    "    \n",
    "    def predict_proba(self, X):\n",
    "        proba = []\n",
    "        \n",
    "        for _, x_i in X.iterrows():\n",
    "            destination_node = self.walk(self.root, x_i)\n",
    "            \n",
    "            class_probabilities = {class_: destination_node.class_probs.get(class_, 0) for class_ in range(self.num_of_classes)}\n",
    "            \n",
    "            proba.append(class_probabilities)\n",
    "        \n",
    "        return proba\n",
    "            \n",
    "            \n",
    "            \n",
    "    def predict(self, X):\n",
    "        proba = self.predict_proba(X)\n",
    "        return np.array([max(p.keys(), key=lambda k: p[k]) for p in proba])\n",
    "    \n",
    "    def walk(self, node, x_i):\n",
    "        if isinstance(node, DecisionTreeLeaf):\n",
    "            return node\n",
    "        if x_i[node.split_dim] < node.split_value:\n",
    "            destination = self.walk(node.left, x_i)\n",
    "        else:\n",
    "            destination = self.walk(node.right, x_i)\n",
    "        return destination\n",
    "    \n",
    "    def get_most_informative_split(self, data, labels):\n",
    "        terminal_IG = float(\"-inf\")\n",
    "        terminal_split_value = None\n",
    "        terminal_split_dim = None\n",
    "        for feature in tqdm(data.columns):\n",
    "        #for feature in tqdm(df.columns):\n",
    "            feature_split_value = None\n",
    "            feature_max_IG = float(\"-inf\")\n",
    "            \n",
    "            \n",
    "            for value in data[feature].unique():\n",
    "            #for value in tqdm(data[feature].unique())\n",
    "                left_y = labels[data[feature] < value]\n",
    "                right_y = labels[data[feature] >= value]\n",
    "                \n",
    "                left_labels = len(set(left_y))\n",
    "                right_labels = len(set(right_y))\n",
    "\n",
    "                \n",
    "                IG = gain(labels, left_y, right_y, self.criterion, self.overall_samples_amount)\n",
    "                \n",
    "                if IG > feature_max_IG:\n",
    "                    feature_max_IG = IG\n",
    "                    feature_split_value = value\n",
    "            \n",
    "            if feature_max_IG > terminal_IG:\n",
    "                terminal_IG = feature_max_IG\n",
    "                terminal_split_dim = feature\n",
    "                terminal_split_value = feature_split_value\n",
    "            \n",
    "        return terminal_split_dim, terminal_split_value\n",
    "    \n",
    "    def split_dataframe(self, node, data, labels):\n",
    "        left_indices = data[node.split_dim] < node.split_value\n",
    "        right_indices = data[node.split_dim] >= node.split_value\n",
    "        \n",
    "        left_data = data[left_indices]\n",
    "        right_data = data[right_indices]\n",
    "        \n",
    "        left_y = labels[left_indices]\n",
    "        right_y = labels[right_indices]\n",
    "        \n",
    "        \n",
    "        # условия для установления левого ответвления листом:\n",
    "        if any((len(set(left_y)) == 1, node.depth + 1== self.max_depth)):\n",
    "            left_child = DecisionTreeLeaf(data=left_data, labels=left_y, predecessor=node)\n",
    "        else:\n",
    "            left_child = DecisionTreeNode(data=left_data, labels=left_y, predecessor=node)\n",
    "        \n",
    "        \n",
    "        if any((len(set(right_y)) == 1, node.depth + 1 == self.max_depth)):\n",
    "            right_child = DecisionTreeLeaf(data=right_data, labels=right_y, predecessor=node)\n",
    "        else:\n",
    "            right_child = DecisionTreeNode(data=right_data, labels=right_y, predecessor=node)\n",
    "            \n",
    "        node.right = right_child\n",
    "        node.left = left_child\n",
    "    \n",
    "    def split_node(self, child):\n",
    "        if isinstance(child, DecisionTreeLeaf):\n",
    "            child.process_leaf_instance()\n",
    "        else:\n",
    "            split_dim, split_value = self.get_most_informative_split(child.data, child.labels)\n",
    "            \n",
    "            child.split_dim = split_dim\n",
    "            child.split_value = split_value\n",
    "            \n",
    "            self.split_dataframe(child, child.data, child.labels)\n",
    "            \n",
    "            self.split_node(child.left)\n",
    "            self.split_node(child.right)"
   ]
  },
  {
   "cell_type": "markdown",
   "metadata": {},
   "source": [
    "### Добавим унаследованный класс Решающего дерева с целью расширения функционала - теперь в каждом узле будет выбираться `max_features` для поиска лучшего сплита"
   ]
  },
  {
   "cell_type": "code",
   "execution_count": 108,
   "metadata": {},
   "outputs": [],
   "source": [
    "class DecisionTreeClassifierExtended(DecisionTreeClassifier):\n",
    "    def __init__(self, max_features_amount, criterion=\"gini\", max_depth=None, min_samples_leaf=1):\n",
    "        super().__init__(criterion=criterion, max_depth=max_depth, min_samples_leaf=min_samples_leaf)\n",
    "        \n",
    "        self.max_features_amount = max_features_amount\n",
    "        \n",
    "    \n",
    "    def get_features_subset(self, columns):\n",
    "        random_features = np.random.choice(columns, replace=False, size=self.max_features_amount)\n",
    "        \n",
    "        return random_features\n",
    "    \n",
    "    \n",
    "    def fit(self, X, y):\n",
    "        \n",
    "        self.root = DecisionTreeNode(data=X, labels=y)\n",
    "        self.overall_samples_amount = len(y)\n",
    "        self.num_of_classes = len(set(y))\n",
    "        \n",
    "        random_features = self.get_features_subset(X.columns)\n",
    "\n",
    "        split_dim, split_value = self.get_most_informative_split(X, y, random_features)\n",
    "        \n",
    "        \n",
    "        self.root.split_dim = split_dim\n",
    "        self.root.split_value = split_value\n",
    "        \n",
    "        \n",
    "        self.split_dataframe(self.root, X, y)\n",
    "        \n",
    "        self.split_node(self.root.left)\n",
    "        self.split_node(self.root.right)\n",
    "    \n",
    "    def get_most_informative_split(self, data, labels, features_subset):\n",
    "        terminal_IG = float(\"-inf\")\n",
    "        terminal_split_value = None\n",
    "        terminal_split_dim = None\n",
    "        \n",
    "        for feature in features_subset:\n",
    "            feature_split_value = None\n",
    "            feature_max_IG = float(\"-inf\")\n",
    "            \n",
    "            \n",
    "            for value in data[feature].unique():\n",
    "                left_y = labels[data[feature] < value]\n",
    "                right_y = labels[data[feature] >= value]\n",
    "                \n",
    "                left_labels = len(set(left_y))\n",
    "                right_labels = len(set(right_y))\n",
    "                                \n",
    "                IG = gain(labels, left_y, right_y, self.criterion, self.overall_samples_amount)\n",
    "                if IG > feature_max_IG and all((len(left_y) >= self.min_samples_leaf, len(right_y >= self.min_samples_leaf))):\n",
    "                    feature_max_IG = IG\n",
    "                    feature_split_value = value\n",
    "            \n",
    "            if feature_max_IG > terminal_IG:\n",
    "                terminal_IG = feature_max_IG\n",
    "                terminal_split_dim = feature\n",
    "                terminal_split_value = feature_split_value\n",
    "\n",
    "        return terminal_split_dim, terminal_split_value\n",
    "    \n",
    "    def split_node(self, child):\n",
    "        if isinstance(child, DecisionTreeLeaf):\n",
    "            child.process_leaf_instance()\n",
    "        else:\n",
    "            split_dim = None\n",
    "            \n",
    "            while split_dim is None:\n",
    "                random_features = self.get_features_subset(child.data.columns)\n",
    "                split_dim, split_value = self.get_most_informative_split(child.data, child.labels,\n",
    "                                                                    random_features)\n",
    "            \n",
    "            child.split_dim = split_dim\n",
    "            child.split_value = split_value\n",
    "            \n",
    "            self.split_dataframe(child, child.data, child.labels)\n",
    "\n",
    "            self.split_node(child.left)\n",
    "            self.split_node(child.right)\n"
   ]
  },
  {
   "cell_type": "code",
   "execution_count": 109,
   "metadata": {},
   "outputs": [],
   "source": [
    "from sklearn.base import BaseEstimator"
   ]
  },
  {
   "cell_type": "code",
   "execution_count": 110,
   "metadata": {},
   "outputs": [],
   "source": [
    "class RandomForestClassifier(BaseEstimator):\n",
    "    def __init__(self, criterion=\"gini\", max_depth=None, min_samples_leaf=1, max_features=\"auto\", \n",
    "                 n_estimators=10, bootstrap_ratio=0.8):\n",
    "        \n",
    "        self.criterion = criterion\n",
    "        self.n_estimators = n_estimators\n",
    "        \n",
    "        self.min_samples_leaf = min_samples_leaf\n",
    "        self.max_depth = max_depth if max_depth else 999\n",
    "        self.max_features = max_features\n",
    "        self.bootstrap_ratio = 0.8\n",
    "    \n",
    "    @classmethod\n",
    "    def max_features_func(cls, strategy):\n",
    "        \n",
    "        strategies = {\"auto\": np.sqrt,\n",
    "                     \"sqrt\": np.sqrt,\n",
    "                     \"log2\": np.log2,\n",
    "                     }\n",
    "        \n",
    "        return strategies[strategy]\n",
    "        \n",
    "    def bootstrap(self, length):\n",
    "        indices = tuple(np.arange(length))\n",
    "        bootstrap_size = int(length * self.bootstrap_ratio)\n",
    "        bootstrap_indices = np.array([list(np.random.choice(indices, size=bootstrap_size)) for _ in range(self.n_estimators)])\n",
    "        out_of_bag_indices = [list(set(indices) - set(tuple(bootstrap_i))) for bootstrap_i in bootstrap_indices]\n",
    "        \n",
    "        return bootstrap_indices, out_of_bag_indices\n",
    "    \n",
    "    def fit(self, X, y):\n",
    "        bootstrap_indices, self.OOB_indices = self.bootstrap(X.shape[0])\n",
    "        max_features_amount = int(self.max_features_func(self.max_features)(X.shape[1]))\n",
    "        self.estimators = np.array([DecisionTreeClassifierExtended(max_depth=self.max_depth,\n",
    "                                                          min_samples_leaf=self.min_samples_leaf,\n",
    "                                                          criterion=self.criterion,\n",
    "                                                                   max_features_amount=max_features_amount) for _ in range(self.n_estimators)])\n",
    "\n",
    "\n",
    "        for estimator_idx in tqdm(range(self.n_estimators)):\n",
    "            X_bootstrapped, y_bootstrapped = X.iloc[bootstrap_indices[estimator_idx]], y.iloc[bootstrap_indices[estimator_idx]]\n",
    "            \n",
    "            \n",
    "            self.estimators[estimator_idx].fit(X_bootstrapped, y_bootstrapped)\n",
    "            \n",
    "            \n",
    "        return self\n",
    "    def get_forest_predictions(self, X):\n",
    "        \n",
    "        return np.array([estimator.predict(X) for estimator in self.estimators]).T\n",
    "    \n",
    "    \n",
    "    def predict(self, X):\n",
    "        \n",
    "        predictions = self.get_forest_predictions(X)\n",
    "        \n",
    "        forest_final_predictions = np.array([np.argmax(np.bincount(preds)) for preds in predictions])\n",
    "        \n",
    "        return forest_final_predictions"
   ]
  },
  {
   "cell_type": "markdown",
   "metadata": {},
   "source": [
    "### \n",
    "Оптимизируйте по `AUC` на кроссвалидации (размер валидационной выборки - 20%) параметры своей реализации `Random Forest`: \n",
    "\n",
    "максимальную глубину деревьев из [2, 3, 5, 7, 10], количество деревьев из [5, 10, 20, 30, 50, 100]. \n",
    "\n",
    "Постройте `ROC` кривую (и выведите `AUC` и `accuracy`) для лучшего варианта.\n",
    "\n",
    "Подсказка: можно построить сразу 100 деревьев глубины 10, а потом убирать деревья и\n",
    "глубину."
   ]
  },
  {
   "cell_type": "code",
   "execution_count": 111,
   "metadata": {},
   "outputs": [],
   "source": [
    "path_x_train = r\"{}x_spam_train.csv\"\n",
    "path_y_train = r\"{}y_spam_train.csv\"\n",
    "path_x_test = r\"{}x_spam_test.csv\""
   ]
  },
  {
   "cell_type": "code",
   "execution_count": 112,
   "metadata": {},
   "outputs": [],
   "source": [
    "X_train = pd.read_csv(path_x_train.format(\"./hw_Ensembles_data/\")).drop(\"Id\", axis=\"columns\")\n",
    "X_test = pd.read_csv(path_x_test.format(\"./hw_Ensembles_data/\"))\n",
    "Id_col = X_test[\"Id\"]\n",
    "\n",
    "X_test.drop(\"Id\", axis=\"columns\", inplace=True)\n",
    "y_train = pd.read_csv(path_y_train.format(\"./hw_Ensembles_data/\")).drop(\"Id\", axis=\"columns\")[\"Expected\"]"
   ]
  },
  {
   "cell_type": "markdown",
   "metadata": {},
   "source": [
    "__Дискредизируем признаки__"
   ]
  },
  {
   "cell_type": "code",
   "execution_count": 113,
   "metadata": {},
   "outputs": [],
   "source": [
    "from sklearn.preprocessing import KBinsDiscretizer\n",
    "\n",
    "discretizer = KBinsDiscretizer(n_bins=10, strategy=\"kmeans\", encode=\"ordinal\")\n",
    "\n",
    "X_train_encoded = pd.DataFrame(discretizer.fit_transform(X_train.values), columns=X_train.columns)\n",
    "X_test_encoded = pd.DataFrame(discretizer.transform(X_test.values), columns=X_test.columns)"
   ]
  },
  {
   "cell_type": "code",
   "execution_count": 32,
   "metadata": {
    "scrolled": true
   },
   "outputs": [
    {
     "data": {
      "application/vnd.jupyter.widget-view+json": {
       "model_id": "31bd13a5f63944348dfad45c71812d02",
       "version_major": 2,
       "version_minor": 0
      },
      "text/plain": [
       "  0%|          | 0/30 [00:00<?, ?it/s]"
      ]
     },
     "metadata": {},
     "output_type": "display_data"
    },
    {
     "data": {
      "application/vnd.jupyter.widget-view+json": {
       "model_id": "26d404ff18294d1d9cad89033c7ea3cb",
       "version_major": 2,
       "version_minor": 0
      },
      "text/plain": [
       "  0%|          | 0/5 [00:00<?, ?it/s]"
      ]
     },
     "metadata": {},
     "output_type": "display_data"
    },
    {
     "data": {
      "application/vnd.jupyter.widget-view+json": {
       "model_id": "aebcfdccd46d4084a3a1b3b2ce960e38",
       "version_major": 2,
       "version_minor": 0
      },
      "text/plain": [
       "  0%|          | 0/5 [00:00<?, ?it/s]"
      ]
     },
     "metadata": {},
     "output_type": "display_data"
    },
    {
     "data": {
      "application/vnd.jupyter.widget-view+json": {
       "model_id": "f977834e8b1b434c960cd4cbccfafb15",
       "version_major": 2,
       "version_minor": 0
      },
      "text/plain": [
       "  0%|          | 0/5 [00:00<?, ?it/s]"
      ]
     },
     "metadata": {},
     "output_type": "display_data"
    },
    {
     "data": {
      "application/vnd.jupyter.widget-view+json": {
       "model_id": "ace1cbd8d10242a88dd9eaa6cc0e86ed",
       "version_major": 2,
       "version_minor": 0
      },
      "text/plain": [
       "  0%|          | 0/10 [00:00<?, ?it/s]"
      ]
     },
     "metadata": {},
     "output_type": "display_data"
    },
    {
     "ename": "KeyboardInterrupt",
     "evalue": "",
     "output_type": "error",
     "traceback": [
      "\u001b[0;31m---------------------------------------------------------------------------\u001b[0m",
      "\u001b[0;31mKeyboardInterrupt\u001b[0m                         Traceback (most recent call last)",
      "Input \u001b[0;32mIn [32]\u001b[0m, in \u001b[0;36m<module>\u001b[0;34m\u001b[0m\n\u001b[1;32m     13\u001b[0m y_tr, y_val \u001b[38;5;241m=\u001b[39m y_train\u001b[38;5;241m.\u001b[39miloc[train_index], y_train\u001b[38;5;241m.\u001b[39miloc[test_index]\n\u001b[1;32m     15\u001b[0m rfc \u001b[38;5;241m=\u001b[39m RandomForestClassifier(\u001b[38;5;241m*\u001b[39m\u001b[38;5;241m*\u001b[39mparameters)\n\u001b[0;32m---> 16\u001b[0m \u001b[43mrfc\u001b[49m\u001b[38;5;241;43m.\u001b[39;49m\u001b[43mfit\u001b[49m\u001b[43m(\u001b[49m\u001b[43mX_tr\u001b[49m\u001b[43m,\u001b[49m\u001b[43m \u001b[49m\u001b[43my_tr\u001b[49m\u001b[43m)\u001b[49m\n\u001b[1;32m     18\u001b[0m pred \u001b[38;5;241m=\u001b[39m rfc\u001b[38;5;241m.\u001b[39mpredict(X_val)\n\u001b[1;32m     20\u001b[0m metric \u001b[38;5;241m=\u001b[39m roc_auc_score(y_true\u001b[38;5;241m=\u001b[39my_val, y_score\u001b[38;5;241m=\u001b[39mpred)\n",
      "Input \u001b[0;32mIn [5]\u001b[0m, in \u001b[0;36mRandomForestClassifier.fit\u001b[0;34m(self, X, y)\u001b[0m\n\u001b[1;32m     40\u001b[0m \u001b[38;5;28;01mfor\u001b[39;00m estimator_idx \u001b[38;5;129;01min\u001b[39;00m tqdm(\u001b[38;5;28mrange\u001b[39m(\u001b[38;5;28mself\u001b[39m\u001b[38;5;241m.\u001b[39mn_estimators)):\n\u001b[1;32m     41\u001b[0m     X_bootstrapped, y_bootstrapped \u001b[38;5;241m=\u001b[39m X\u001b[38;5;241m.\u001b[39miloc[bootstrap_indices[estimator_idx]], y\u001b[38;5;241m.\u001b[39miloc[bootstrap_indices[estimator_idx]]\n\u001b[0;32m---> 44\u001b[0m     \u001b[38;5;28;43mself\u001b[39;49m\u001b[38;5;241;43m.\u001b[39;49m\u001b[43mestimators\u001b[49m\u001b[43m[\u001b[49m\u001b[43mestimator_idx\u001b[49m\u001b[43m]\u001b[49m\u001b[38;5;241;43m.\u001b[39;49m\u001b[43mfit\u001b[49m\u001b[43m(\u001b[49m\u001b[43mX_bootstrapped\u001b[49m\u001b[43m,\u001b[49m\u001b[43m \u001b[49m\u001b[43my_bootstrapped\u001b[49m\u001b[43m)\u001b[49m\n\u001b[1;32m     47\u001b[0m \u001b[38;5;28;01mreturn\u001b[39;00m \u001b[38;5;28mself\u001b[39m\n",
      "Input \u001b[0;32mIn [3]\u001b[0m, in \u001b[0;36mDecisionTreeClassifierExtended.fit\u001b[0;34m(self, X, y)\u001b[0m\n\u001b[1;32m     18\u001b[0m \u001b[38;5;28mself\u001b[39m\u001b[38;5;241m.\u001b[39mnum_of_classes \u001b[38;5;241m=\u001b[39m \u001b[38;5;28mlen\u001b[39m(\u001b[38;5;28mset\u001b[39m(y))\n\u001b[1;32m     20\u001b[0m random_features \u001b[38;5;241m=\u001b[39m \u001b[38;5;28mself\u001b[39m\u001b[38;5;241m.\u001b[39mget_features_subset(X\u001b[38;5;241m.\u001b[39mcolumns)\n\u001b[0;32m---> 22\u001b[0m split_dim, split_value \u001b[38;5;241m=\u001b[39m \u001b[38;5;28;43mself\u001b[39;49m\u001b[38;5;241;43m.\u001b[39;49m\u001b[43mget_most_informative_split\u001b[49m\u001b[43m(\u001b[49m\u001b[43mX\u001b[49m\u001b[43m,\u001b[49m\u001b[43m \u001b[49m\u001b[43my\u001b[49m\u001b[43m,\u001b[49m\u001b[43m \u001b[49m\u001b[43mrandom_features\u001b[49m\u001b[43m)\u001b[49m\n\u001b[1;32m     25\u001b[0m \u001b[38;5;28mself\u001b[39m\u001b[38;5;241m.\u001b[39mroot\u001b[38;5;241m.\u001b[39msplit_dim \u001b[38;5;241m=\u001b[39m split_dim\n\u001b[1;32m     26\u001b[0m \u001b[38;5;28mself\u001b[39m\u001b[38;5;241m.\u001b[39mroot\u001b[38;5;241m.\u001b[39msplit_value \u001b[38;5;241m=\u001b[39m split_value\n",
      "Input \u001b[0;32mIn [3]\u001b[0m, in \u001b[0;36mDecisionTreeClassifierExtended.get_most_informative_split\u001b[0;34m(self, data, labels, features_subset)\u001b[0m\n\u001b[1;32m     48\u001b[0m left_labels \u001b[38;5;241m=\u001b[39m \u001b[38;5;28mlen\u001b[39m(\u001b[38;5;28mset\u001b[39m(left_y))\n\u001b[1;32m     49\u001b[0m right_labels \u001b[38;5;241m=\u001b[39m \u001b[38;5;28mlen\u001b[39m(\u001b[38;5;28mset\u001b[39m(right_y))\n\u001b[0;32m---> 51\u001b[0m IG \u001b[38;5;241m=\u001b[39m \u001b[43mgain\u001b[49m\u001b[43m(\u001b[49m\u001b[43mlabels\u001b[49m\u001b[43m,\u001b[49m\u001b[43m \u001b[49m\u001b[43mleft_y\u001b[49m\u001b[43m,\u001b[49m\u001b[43m \u001b[49m\u001b[43mright_y\u001b[49m\u001b[43m,\u001b[49m\u001b[43m \u001b[49m\u001b[38;5;28;43mself\u001b[39;49m\u001b[38;5;241;43m.\u001b[39;49m\u001b[43mcriterion\u001b[49m\u001b[43m,\u001b[49m\u001b[43m \u001b[49m\u001b[38;5;28;43mself\u001b[39;49m\u001b[38;5;241;43m.\u001b[39;49m\u001b[43moverall_samples_amount\u001b[49m\u001b[43m)\u001b[49m\n\u001b[1;32m     52\u001b[0m \u001b[38;5;28;01mif\u001b[39;00m IG \u001b[38;5;241m>\u001b[39m feature_max_IG \u001b[38;5;129;01mand\u001b[39;00m \u001b[38;5;28mall\u001b[39m((\u001b[38;5;28mlen\u001b[39m(left_y) \u001b[38;5;241m>\u001b[39m\u001b[38;5;241m=\u001b[39m \u001b[38;5;28mself\u001b[39m\u001b[38;5;241m.\u001b[39mmin_samples_leaf, \u001b[38;5;28mlen\u001b[39m(right_y \u001b[38;5;241m>\u001b[39m\u001b[38;5;241m=\u001b[39m \u001b[38;5;28mself\u001b[39m\u001b[38;5;241m.\u001b[39mmin_samples_leaf))):\n\u001b[1;32m     53\u001b[0m     feature_max_IG \u001b[38;5;241m=\u001b[39m IG\n",
      "Input \u001b[0;32mIn [2]\u001b[0m, in \u001b[0;36mgain\u001b[0;34m(left_right, left_y, right_y, criterion, s_total)\u001b[0m\n\u001b[1;32m     30\u001b[0m impurity_left \u001b[38;5;241m=\u001b[39m criterion(left_y)\n\u001b[1;32m     31\u001b[0m impurity_right \u001b[38;5;241m=\u001b[39m criterion(right_y)\n\u001b[0;32m---> 33\u001b[0m information_gain \u001b[38;5;241m=\u001b[39m s_node \u001b[38;5;241m/\u001b[39m s_total \u001b[38;5;241m*\u001b[39m criterion(left_right) \u001b[38;5;241m-\u001b[39m \u001b[38;5;28mlen\u001b[39m(left_y) \u001b[38;5;241m/\u001b[39m s_total \u001b[38;5;241m*\u001b[39m \u001b[43mcriterion\u001b[49m\u001b[43m(\u001b[49m\u001b[43mleft_y\u001b[49m\u001b[43m)\u001b[49m \u001b[38;5;241m-\u001b[39m \u001b[38;5;28mlen\u001b[39m(right_y) \u001b[38;5;241m/\u001b[39m s_total \u001b[38;5;241m*\u001b[39m criterion(right_y)\n\u001b[1;32m     36\u001b[0m split_info \u001b[38;5;241m=\u001b[39m \u001b[38;5;241m0\u001b[39m\n\u001b[1;32m     38\u001b[0m \u001b[38;5;28;01mfor\u001b[39;00m unique_feature, count \u001b[38;5;129;01min\u001b[39;00m \u001b[38;5;28mzip\u001b[39m(left_right\u001b[38;5;241m.\u001b[39mvalue_counts()\u001b[38;5;241m.\u001b[39mindex, left_right\u001b[38;5;241m.\u001b[39mvalue_counts()):\n",
      "Input \u001b[0;32mIn [2]\u001b[0m, in \u001b[0;36mgini\u001b[0;34m(x)\u001b[0m\n\u001b[1;32m      2\u001b[0m criterion_sum \u001b[38;5;241m=\u001b[39m \u001b[38;5;241m0\u001b[39m\n\u001b[1;32m      4\u001b[0m overall_amount \u001b[38;5;241m=\u001b[39m \u001b[38;5;28mlen\u001b[39m(x)\n\u001b[0;32m----> 6\u001b[0m \u001b[38;5;28;01mfor\u001b[39;00m class_members_amount \u001b[38;5;129;01min\u001b[39;00m \u001b[43mx\u001b[49m\u001b[38;5;241;43m.\u001b[39;49m\u001b[43mvalue_counts\u001b[49m\u001b[43m(\u001b[49m\u001b[43m)\u001b[49m:\n\u001b[1;32m      7\u001b[0m     prob \u001b[38;5;241m=\u001b[39m class_members_amount \u001b[38;5;241m/\u001b[39m overall_amount\n\u001b[1;32m      9\u001b[0m     criterion_sum \u001b[38;5;241m+\u001b[39m\u001b[38;5;241m=\u001b[39m prob \u001b[38;5;241m*\u001b[39m (\u001b[38;5;241m1\u001b[39m \u001b[38;5;241m-\u001b[39m prob)\n",
      "File \u001b[0;32m~/miniconda3/envs/ml/lib/python3.8/site-packages/pandas/core/base.py:1027\u001b[0m, in \u001b[0;36mIndexOpsMixin.value_counts\u001b[0;34m(self, normalize, sort, ascending, bins, dropna)\u001b[0m\n\u001b[1;32m    941\u001b[0m \u001b[38;5;28;01mdef\u001b[39;00m \u001b[38;5;21mvalue_counts\u001b[39m(\n\u001b[1;32m    942\u001b[0m     \u001b[38;5;28mself\u001b[39m,\n\u001b[1;32m    943\u001b[0m     normalize: \u001b[38;5;28mbool\u001b[39m \u001b[38;5;241m=\u001b[39m \u001b[38;5;28;01mFalse\u001b[39;00m,\n\u001b[0;32m   (...)\u001b[0m\n\u001b[1;32m    947\u001b[0m     dropna: \u001b[38;5;28mbool\u001b[39m \u001b[38;5;241m=\u001b[39m \u001b[38;5;28;01mTrue\u001b[39;00m,\n\u001b[1;32m    948\u001b[0m ):\n\u001b[1;32m    949\u001b[0m     \u001b[38;5;124;03m\"\"\"\u001b[39;00m\n\u001b[1;32m    950\u001b[0m \u001b[38;5;124;03m    Return a Series containing counts of unique values.\u001b[39;00m\n\u001b[1;32m    951\u001b[0m \n\u001b[0;32m   (...)\u001b[0m\n\u001b[1;32m   1025\u001b[0m \u001b[38;5;124;03m    dtype: int64\u001b[39;00m\n\u001b[1;32m   1026\u001b[0m \u001b[38;5;124;03m    \"\"\"\u001b[39;00m\n\u001b[0;32m-> 1027\u001b[0m     result \u001b[38;5;241m=\u001b[39m \u001b[43mvalue_counts\u001b[49m\u001b[43m(\u001b[49m\n\u001b[1;32m   1028\u001b[0m \u001b[43m        \u001b[49m\u001b[38;5;28;43mself\u001b[39;49m\u001b[43m,\u001b[49m\n\u001b[1;32m   1029\u001b[0m \u001b[43m        \u001b[49m\u001b[43msort\u001b[49m\u001b[38;5;241;43m=\u001b[39;49m\u001b[43msort\u001b[49m\u001b[43m,\u001b[49m\n\u001b[1;32m   1030\u001b[0m \u001b[43m        \u001b[49m\u001b[43mascending\u001b[49m\u001b[38;5;241;43m=\u001b[39;49m\u001b[43mascending\u001b[49m\u001b[43m,\u001b[49m\n\u001b[1;32m   1031\u001b[0m \u001b[43m        \u001b[49m\u001b[43mnormalize\u001b[49m\u001b[38;5;241;43m=\u001b[39;49m\u001b[43mnormalize\u001b[49m\u001b[43m,\u001b[49m\n\u001b[1;32m   1032\u001b[0m \u001b[43m        \u001b[49m\u001b[43mbins\u001b[49m\u001b[38;5;241;43m=\u001b[39;49m\u001b[43mbins\u001b[49m\u001b[43m,\u001b[49m\n\u001b[1;32m   1033\u001b[0m \u001b[43m        \u001b[49m\u001b[43mdropna\u001b[49m\u001b[38;5;241;43m=\u001b[39;49m\u001b[43mdropna\u001b[49m\u001b[43m,\u001b[49m\n\u001b[1;32m   1034\u001b[0m \u001b[43m    \u001b[49m\u001b[43m)\u001b[49m\n\u001b[1;32m   1035\u001b[0m     \u001b[38;5;28;01mreturn\u001b[39;00m result\n",
      "File \u001b[0;32m~/miniconda3/envs/ml/lib/python3.8/site-packages/pandas/core/algorithms.py:822\u001b[0m, in \u001b[0;36mvalue_counts\u001b[0;34m(values, sort, ascending, normalize, bins, dropna)\u001b[0m\n\u001b[1;32m    819\u001b[0m     \u001b[38;5;28;01melse\u001b[39;00m:\n\u001b[1;32m    820\u001b[0m         keys, counts \u001b[38;5;241m=\u001b[39m value_counts_arraylike(values, dropna)\n\u001b[0;32m--> 822\u001b[0m         result \u001b[38;5;241m=\u001b[39m \u001b[43mSeries\u001b[49m\u001b[43m(\u001b[49m\u001b[43mcounts\u001b[49m\u001b[43m,\u001b[49m\u001b[43m \u001b[49m\u001b[43mindex\u001b[49m\u001b[38;5;241;43m=\u001b[39;49m\u001b[43mkeys\u001b[49m\u001b[43m,\u001b[49m\u001b[43m \u001b[49m\u001b[43mname\u001b[49m\u001b[38;5;241;43m=\u001b[39;49m\u001b[43mname\u001b[49m\u001b[43m)\u001b[49m\n\u001b[1;32m    824\u001b[0m \u001b[38;5;28;01mif\u001b[39;00m sort:\n\u001b[1;32m    825\u001b[0m     result \u001b[38;5;241m=\u001b[39m result\u001b[38;5;241m.\u001b[39msort_values(ascending\u001b[38;5;241m=\u001b[39mascending)\n",
      "File \u001b[0;32m~/miniconda3/envs/ml/lib/python3.8/site-packages/pandas/core/series.py:366\u001b[0m, in \u001b[0;36mSeries.__init__\u001b[0;34m(self, data, index, dtype, name, copy, fastpath)\u001b[0m\n\u001b[1;32m    363\u001b[0m     \u001b[38;5;28;01melse\u001b[39;00m:\n\u001b[1;32m    364\u001b[0m         data \u001b[38;5;241m=\u001b[39m sanitize_array(data, index, dtype, copy, raise_cast_failure\u001b[38;5;241m=\u001b[39m\u001b[38;5;28;01mTrue\u001b[39;00m)\n\u001b[0;32m--> 366\u001b[0m         data \u001b[38;5;241m=\u001b[39m \u001b[43mSingleBlockManager\u001b[49m\u001b[38;5;241;43m.\u001b[39;49m\u001b[43mfrom_array\u001b[49m\u001b[43m(\u001b[49m\u001b[43mdata\u001b[49m\u001b[43m,\u001b[49m\u001b[43m \u001b[49m\u001b[43mindex\u001b[49m\u001b[43m)\u001b[49m\n\u001b[1;32m    368\u001b[0m generic\u001b[38;5;241m.\u001b[39mNDFrame\u001b[38;5;241m.\u001b[39m\u001b[38;5;21m__init__\u001b[39m(\u001b[38;5;28mself\u001b[39m, data)\n\u001b[1;32m    369\u001b[0m \u001b[38;5;28mself\u001b[39m\u001b[38;5;241m.\u001b[39mname \u001b[38;5;241m=\u001b[39m name\n",
      "File \u001b[0;32m~/miniconda3/envs/ml/lib/python3.8/site-packages/pandas/core/internals/managers.py:1582\u001b[0m, in \u001b[0;36mSingleBlockManager.from_array\u001b[0;34m(cls, array, index)\u001b[0m\n\u001b[1;32m   1577\u001b[0m \u001b[38;5;129m@classmethod\u001b[39m\n\u001b[1;32m   1578\u001b[0m \u001b[38;5;28;01mdef\u001b[39;00m \u001b[38;5;21mfrom_array\u001b[39m(\u001b[38;5;28mcls\u001b[39m, array: ArrayLike, index: Index) \u001b[38;5;241m-\u001b[39m\u001b[38;5;241m>\u001b[39m \u001b[38;5;124m\"\u001b[39m\u001b[38;5;124mSingleBlockManager\u001b[39m\u001b[38;5;124m\"\u001b[39m:\n\u001b[1;32m   1579\u001b[0m     \u001b[38;5;124;03m\"\"\"\u001b[39;00m\n\u001b[1;32m   1580\u001b[0m \u001b[38;5;124;03m    Constructor for if we have an array that is not yet a Block.\u001b[39;00m\n\u001b[1;32m   1581\u001b[0m \u001b[38;5;124;03m    \"\"\"\u001b[39;00m\n\u001b[0;32m-> 1582\u001b[0m     block \u001b[38;5;241m=\u001b[39m \u001b[43mmake_block\u001b[49m\u001b[43m(\u001b[49m\u001b[43marray\u001b[49m\u001b[43m,\u001b[49m\u001b[43m \u001b[49m\u001b[43mplacement\u001b[49m\u001b[38;5;241;43m=\u001b[39;49m\u001b[38;5;28;43mslice\u001b[39;49m\u001b[43m(\u001b[49m\u001b[38;5;241;43m0\u001b[39;49m\u001b[43m,\u001b[49m\u001b[43m \u001b[49m\u001b[38;5;28;43mlen\u001b[39;49m\u001b[43m(\u001b[49m\u001b[43mindex\u001b[49m\u001b[43m)\u001b[49m\u001b[43m)\u001b[49m\u001b[43m,\u001b[49m\u001b[43m \u001b[49m\u001b[43mndim\u001b[49m\u001b[38;5;241;43m=\u001b[39;49m\u001b[38;5;241;43m1\u001b[39;49m\u001b[43m)\u001b[49m\n\u001b[1;32m   1583\u001b[0m     \u001b[38;5;28;01mreturn\u001b[39;00m \u001b[38;5;28mcls\u001b[39m(block, index)\n",
      "File \u001b[0;32m~/miniconda3/envs/ml/lib/python3.8/site-packages/pandas/core/internals/blocks.py:2751\u001b[0m, in \u001b[0;36mmake_block\u001b[0;34m(values, placement, klass, ndim, dtype)\u001b[0m\n\u001b[1;32m   2746\u001b[0m \u001b[38;5;28;01melif\u001b[39;00m klass \u001b[38;5;129;01mis\u001b[39;00m DatetimeTZBlock \u001b[38;5;129;01mand\u001b[39;00m \u001b[38;5;129;01mnot\u001b[39;00m is_datetime64tz_dtype(values\u001b[38;5;241m.\u001b[39mdtype):\n\u001b[1;32m   2747\u001b[0m     \u001b[38;5;66;03m# TODO: This is no longer hit internally; does it need to be retained\u001b[39;00m\n\u001b[1;32m   2748\u001b[0m     \u001b[38;5;66;03m#  for e.g. pyarrow?\u001b[39;00m\n\u001b[1;32m   2749\u001b[0m     values \u001b[38;5;241m=\u001b[39m DatetimeArray\u001b[38;5;241m.\u001b[39m_simple_new(values, dtype\u001b[38;5;241m=\u001b[39mdtype)\n\u001b[0;32m-> 2751\u001b[0m \u001b[38;5;28;01mreturn\u001b[39;00m \u001b[43mklass\u001b[49m\u001b[43m(\u001b[49m\u001b[43mvalues\u001b[49m\u001b[43m,\u001b[49m\u001b[43m \u001b[49m\u001b[43mndim\u001b[49m\u001b[38;5;241;43m=\u001b[39;49m\u001b[43mndim\u001b[49m\u001b[43m,\u001b[49m\u001b[43m \u001b[49m\u001b[43mplacement\u001b[49m\u001b[38;5;241;43m=\u001b[39;49m\u001b[43mplacement\u001b[49m\u001b[43m)\u001b[49m\n",
      "File \u001b[0;32m~/miniconda3/envs/ml/lib/python3.8/site-packages/pandas/core/internals/blocks.py:127\u001b[0m, in \u001b[0;36mBlock.__init__\u001b[0;34m(self, values, placement, ndim)\u001b[0m\n\u001b[1;32m    124\u001b[0m     obj\u001b[38;5;241m.\u001b[39m_mgr_locs \u001b[38;5;241m=\u001b[39m placement\n\u001b[1;32m    125\u001b[0m     \u001b[38;5;28;01mreturn\u001b[39;00m obj\n\u001b[0;32m--> 127\u001b[0m \u001b[38;5;28;01mdef\u001b[39;00m \u001b[38;5;21m__init__\u001b[39m(\u001b[38;5;28mself\u001b[39m, values, placement, ndim: \u001b[38;5;28mint\u001b[39m):\n\u001b[1;32m    128\u001b[0m     \u001b[38;5;124;03m\"\"\"\u001b[39;00m\n\u001b[1;32m    129\u001b[0m \u001b[38;5;124;03m    Parameters\u001b[39;00m\n\u001b[1;32m    130\u001b[0m \u001b[38;5;124;03m    ----------\u001b[39;00m\n\u001b[0;32m   (...)\u001b[0m\n\u001b[1;32m    134\u001b[0m \u001b[38;5;124;03m        1 for SingleBlockManager/Series, 2 for BlockManager/DataFrame\u001b[39;00m\n\u001b[1;32m    135\u001b[0m \u001b[38;5;124;03m    \"\"\"\u001b[39;00m\n\u001b[1;32m    136\u001b[0m     \u001b[38;5;66;03m# TODO(EA2D): ndim will be unnecessary with 2D EAs\u001b[39;00m\n",
      "\u001b[0;31mKeyboardInterrupt\u001b[0m: "
     ]
    }
   ],
   "source": [
    "from sklearn.model_selection import GridSearchCV, ParameterGrid, KFold\n",
    "from sklearn.metrics import roc_auc_score\n",
    "\n",
    "param_grid = ParameterGrid({\"max_depth\": [2, 3, 5, 7, 10], \"n_estimators\": [5, 10, 20, 30, 50, 100]})\n",
    "\n",
    "metrics_parameters = {}\n",
    "\n",
    "kfold = KFold(n_splits=3)\n",
    "for parameters in tqdm(param_grid):\n",
    "    metrics = []\n",
    "    for train_index, test_index in kfold.split(X_train_encoded):\n",
    "        X_tr, X_val = X_train_encoded.iloc[train_index], X_train_encoded.iloc[test_index]\n",
    "        y_tr, y_val = y_train.iloc[train_index], y_train.iloc[test_index]\n",
    "        \n",
    "        rfc = RandomForestClassifier(**parameters)\n",
    "        rfc.fit(X_tr, y_tr)\n",
    "        \n",
    "        pred = rfc.predict(X_val)\n",
    "        \n",
    "        metric = roc_auc_score(y_true=y_val, y_score=pred)\n",
    "        metrics.append(metric)\n",
    "    \n",
    "    metrics_parameters[tuple(parameters)] = np.mean(metrics)"
   ]
  },
  {
   "cell_type": "markdown",
   "metadata": {},
   "source": [
    "Тренируем модель с максимально выигрышными параметрами:"
   ]
  },
  {
   "cell_type": "code",
   "execution_count": 55,
   "metadata": {},
   "outputs": [],
   "source": [
    "X_tr, X_val, y_tr, y_val = train_test_split(X_train_encoded, y_train, test_size=0.1)"
   ]
  },
  {
   "cell_type": "code",
   "execution_count": 56,
   "metadata": {},
   "outputs": [
    {
     "ename": "KeyError",
     "evalue": "Ellipsis",
     "output_type": "error",
     "traceback": [
      "\u001b[0;31m---------------------------------------------------------------------------\u001b[0m",
      "\u001b[0;31mKeyError\u001b[0m                                  Traceback (most recent call last)",
      "Input \u001b[0;32mIn [56]\u001b[0m, in \u001b[0;36m<module>\u001b[0;34m\u001b[0m\n\u001b[1;32m      1\u001b[0m random_forest_final \u001b[38;5;241m=\u001b[39m RandomForestClassifier(\u001b[38;5;241m.\u001b[39m\u001b[38;5;241m.\u001b[39m\u001b[38;5;241m.\u001b[39m)\n\u001b[0;32m----> 2\u001b[0m \u001b[43mrandom_forest_final\u001b[49m\u001b[38;5;241;43m.\u001b[39;49m\u001b[43mfit\u001b[49m\u001b[43m(\u001b[49m\u001b[43mX_tr\u001b[49m\u001b[43m,\u001b[49m\u001b[43m \u001b[49m\u001b[43my_tr\u001b[49m\u001b[43m)\u001b[49m\n\u001b[1;32m      3\u001b[0m pred \u001b[38;5;241m=\u001b[39m random_forest_final\u001b[38;5;241m.\u001b[39mpredict(X_val)\n",
      "Input \u001b[0;32mIn [51]\u001b[0m, in \u001b[0;36mRandomForestClassifier.fit\u001b[0;34m(self, X, y)\u001b[0m\n\u001b[1;32m     32\u001b[0m bootstrap_indices, \u001b[38;5;28mself\u001b[39m\u001b[38;5;241m.\u001b[39mOOB_indices \u001b[38;5;241m=\u001b[39m \u001b[38;5;28mself\u001b[39m\u001b[38;5;241m.\u001b[39mbootstrap(X\u001b[38;5;241m.\u001b[39mshape[\u001b[38;5;241m0\u001b[39m])\n\u001b[1;32m     33\u001b[0m max_features_amount \u001b[38;5;241m=\u001b[39m \u001b[38;5;28mint\u001b[39m(\u001b[38;5;28mself\u001b[39m\u001b[38;5;241m.\u001b[39mmax_features_func(\u001b[38;5;28mself\u001b[39m\u001b[38;5;241m.\u001b[39mmax_features)(X\u001b[38;5;241m.\u001b[39mshape[\u001b[38;5;241m1\u001b[39m]))\n\u001b[0;32m---> 34\u001b[0m \u001b[38;5;28mself\u001b[39m\u001b[38;5;241m.\u001b[39mestimators \u001b[38;5;241m=\u001b[39m np\u001b[38;5;241m.\u001b[39marray([DecisionTreeClassifierExtended(max_depth\u001b[38;5;241m=\u001b[39m\u001b[38;5;28mself\u001b[39m\u001b[38;5;241m.\u001b[39mmax_depth,\n\u001b[1;32m     35\u001b[0m                                                   min_samples_leaf\u001b[38;5;241m=\u001b[39m\u001b[38;5;28mself\u001b[39m\u001b[38;5;241m.\u001b[39mmin_samples_leaf,\n\u001b[1;32m     36\u001b[0m                                                   criterion\u001b[38;5;241m=\u001b[39m\u001b[38;5;28mself\u001b[39m\u001b[38;5;241m.\u001b[39mcriterion,\n\u001b[1;32m     37\u001b[0m                                                            max_features_amount\u001b[38;5;241m=\u001b[39mmax_features_amount) \u001b[38;5;28;01mfor\u001b[39;00m _ \u001b[38;5;129;01min\u001b[39;00m \u001b[38;5;28mrange\u001b[39m(\u001b[38;5;28mself\u001b[39m\u001b[38;5;241m.\u001b[39mn_estimators)])\n\u001b[1;32m     40\u001b[0m \u001b[38;5;28;01mfor\u001b[39;00m estimator_idx \u001b[38;5;129;01min\u001b[39;00m tqdm(\u001b[38;5;28mrange\u001b[39m(\u001b[38;5;28mself\u001b[39m\u001b[38;5;241m.\u001b[39mn_estimators)):\n\u001b[1;32m     41\u001b[0m     X_bootstrapped, y_bootstrapped \u001b[38;5;241m=\u001b[39m X\u001b[38;5;241m.\u001b[39miloc[bootstrap_indices[estimator_idx]], y\u001b[38;5;241m.\u001b[39miloc[bootstrap_indices[estimator_idx]]\n",
      "Input \u001b[0;32mIn [51]\u001b[0m, in \u001b[0;36m<listcomp>\u001b[0;34m(.0)\u001b[0m\n\u001b[1;32m     32\u001b[0m bootstrap_indices, \u001b[38;5;28mself\u001b[39m\u001b[38;5;241m.\u001b[39mOOB_indices \u001b[38;5;241m=\u001b[39m \u001b[38;5;28mself\u001b[39m\u001b[38;5;241m.\u001b[39mbootstrap(X\u001b[38;5;241m.\u001b[39mshape[\u001b[38;5;241m0\u001b[39m])\n\u001b[1;32m     33\u001b[0m max_features_amount \u001b[38;5;241m=\u001b[39m \u001b[38;5;28mint\u001b[39m(\u001b[38;5;28mself\u001b[39m\u001b[38;5;241m.\u001b[39mmax_features_func(\u001b[38;5;28mself\u001b[39m\u001b[38;5;241m.\u001b[39mmax_features)(X\u001b[38;5;241m.\u001b[39mshape[\u001b[38;5;241m1\u001b[39m]))\n\u001b[0;32m---> 34\u001b[0m \u001b[38;5;28mself\u001b[39m\u001b[38;5;241m.\u001b[39mestimators \u001b[38;5;241m=\u001b[39m np\u001b[38;5;241m.\u001b[39marray([\u001b[43mDecisionTreeClassifierExtended\u001b[49m\u001b[43m(\u001b[49m\u001b[43mmax_depth\u001b[49m\u001b[38;5;241;43m=\u001b[39;49m\u001b[38;5;28;43mself\u001b[39;49m\u001b[38;5;241;43m.\u001b[39;49m\u001b[43mmax_depth\u001b[49m\u001b[43m,\u001b[49m\n\u001b[1;32m     35\u001b[0m \u001b[43m                                                  \u001b[49m\u001b[43mmin_samples_leaf\u001b[49m\u001b[38;5;241;43m=\u001b[39;49m\u001b[38;5;28;43mself\u001b[39;49m\u001b[38;5;241;43m.\u001b[39;49m\u001b[43mmin_samples_leaf\u001b[49m\u001b[43m,\u001b[49m\n\u001b[1;32m     36\u001b[0m \u001b[43m                                                  \u001b[49m\u001b[43mcriterion\u001b[49m\u001b[38;5;241;43m=\u001b[39;49m\u001b[38;5;28;43mself\u001b[39;49m\u001b[38;5;241;43m.\u001b[39;49m\u001b[43mcriterion\u001b[49m\u001b[43m,\u001b[49m\n\u001b[1;32m     37\u001b[0m \u001b[43m                                                           \u001b[49m\u001b[43mmax_features_amount\u001b[49m\u001b[38;5;241;43m=\u001b[39;49m\u001b[43mmax_features_amount\u001b[49m\u001b[43m)\u001b[49m \u001b[38;5;28;01mfor\u001b[39;00m _ \u001b[38;5;129;01min\u001b[39;00m \u001b[38;5;28mrange\u001b[39m(\u001b[38;5;28mself\u001b[39m\u001b[38;5;241m.\u001b[39mn_estimators)])\n\u001b[1;32m     40\u001b[0m \u001b[38;5;28;01mfor\u001b[39;00m estimator_idx \u001b[38;5;129;01min\u001b[39;00m tqdm(\u001b[38;5;28mrange\u001b[39m(\u001b[38;5;28mself\u001b[39m\u001b[38;5;241m.\u001b[39mn_estimators)):\n\u001b[1;32m     41\u001b[0m     X_bootstrapped, y_bootstrapped \u001b[38;5;241m=\u001b[39m X\u001b[38;5;241m.\u001b[39miloc[bootstrap_indices[estimator_idx]], y\u001b[38;5;241m.\u001b[39miloc[bootstrap_indices[estimator_idx]]\n",
      "Input \u001b[0;32mIn [49]\u001b[0m, in \u001b[0;36mDecisionTreeClassifierExtended.__init__\u001b[0;34m(self, max_features_amount, criterion, max_depth, min_samples_leaf)\u001b[0m\n\u001b[1;32m      2\u001b[0m \u001b[38;5;28;01mdef\u001b[39;00m \u001b[38;5;21m__init__\u001b[39m(\u001b[38;5;28mself\u001b[39m, max_features_amount, criterion\u001b[38;5;241m=\u001b[39m\u001b[38;5;124m\"\u001b[39m\u001b[38;5;124mgini\u001b[39m\u001b[38;5;124m\"\u001b[39m, max_depth\u001b[38;5;241m=\u001b[39m\u001b[38;5;28;01mNone\u001b[39;00m, min_samples_leaf\u001b[38;5;241m=\u001b[39m\u001b[38;5;241m1\u001b[39m):\n\u001b[0;32m----> 3\u001b[0m     \u001b[38;5;28;43msuper\u001b[39;49m\u001b[43m(\u001b[49m\u001b[43m)\u001b[49m\u001b[38;5;241;43m.\u001b[39;49m\u001b[38;5;21;43m__init__\u001b[39;49m\u001b[43m(\u001b[49m\u001b[43mcriterion\u001b[49m\u001b[38;5;241;43m=\u001b[39;49m\u001b[43mcriterion\u001b[49m\u001b[43m,\u001b[49m\u001b[43m \u001b[49m\u001b[43mmax_depth\u001b[49m\u001b[38;5;241;43m=\u001b[39;49m\u001b[43mmax_depth\u001b[49m\u001b[43m,\u001b[49m\u001b[43m \u001b[49m\u001b[43mmin_samples_leaf\u001b[49m\u001b[38;5;241;43m=\u001b[39;49m\u001b[43mmin_samples_leaf\u001b[49m\u001b[43m)\u001b[49m\n\u001b[1;32m      5\u001b[0m     \u001b[38;5;28mself\u001b[39m\u001b[38;5;241m.\u001b[39mmax_features_amount \u001b[38;5;241m=\u001b[39m max_features_amount\n",
      "Input \u001b[0;32mIn [2]\u001b[0m, in \u001b[0;36mDecisionTreeClassifier.__init__\u001b[0;34m(self, criterion, max_depth, min_samples_leaf)\u001b[0m\n\u001b[1;32m     84\u001b[0m \u001b[38;5;28mself\u001b[39m\u001b[38;5;241m.\u001b[39mmax_depth \u001b[38;5;241m=\u001b[39m max_depth \u001b[38;5;129;01mor\u001b[39;00m \u001b[38;5;28mfloat\u001b[39m(\u001b[38;5;124m\"\u001b[39m\u001b[38;5;124minf\u001b[39m\u001b[38;5;124m\"\u001b[39m)\n\u001b[1;32m     85\u001b[0m \u001b[38;5;28mself\u001b[39m\u001b[38;5;241m.\u001b[39mmin_samples_leaf \u001b[38;5;241m=\u001b[39m min_samples_leaf\n\u001b[0;32m---> 86\u001b[0m \u001b[38;5;28mself\u001b[39m\u001b[38;5;241m.\u001b[39mcriterion \u001b[38;5;241m=\u001b[39m \u001b[43mDecisionTreeClassifier\u001b[49m\u001b[38;5;241;43m.\u001b[39;49m\u001b[43mcriterias\u001b[49m\u001b[43m(\u001b[49m\u001b[43mcriterion\u001b[49m\u001b[43m)\u001b[49m\n",
      "Input \u001b[0;32mIn [2]\u001b[0m, in \u001b[0;36mDecisionTreeClassifier.criterias\u001b[0;34m(cls, criterion)\u001b[0m\n\u001b[1;32m     88\u001b[0m \u001b[38;5;129m@classmethod\u001b[39m\n\u001b[1;32m     89\u001b[0m \u001b[38;5;28;01mdef\u001b[39;00m \u001b[38;5;21mcriterias\u001b[39m(\u001b[38;5;28mcls\u001b[39m, criterion):\n\u001b[1;32m     90\u001b[0m     CRITERIA \u001b[38;5;241m=\u001b[39m {\u001b[38;5;124m\"\u001b[39m\u001b[38;5;124mgini\u001b[39m\u001b[38;5;124m\"\u001b[39m: gini, \u001b[38;5;124m\"\u001b[39m\u001b[38;5;124mentropy\u001b[39m\u001b[38;5;124m\"\u001b[39m: entropy}\n\u001b[0;32m---> 92\u001b[0m     \u001b[38;5;28;01mreturn\u001b[39;00m \u001b[43mCRITERIA\u001b[49m\u001b[43m[\u001b[49m\u001b[43mcriterion\u001b[49m\u001b[43m]\u001b[49m\n",
      "\u001b[0;31mKeyError\u001b[0m: Ellipsis"
     ]
    }
   ],
   "source": [
    "random_forest_final = RandomForestClassifier(...)\n",
    "random_forest_final.fit(X_tr, y_tr)\n",
    "pred = random_forest_final.predict(X_val)"
   ]
  },
  {
   "cell_type": "code",
   "execution_count": 43,
   "metadata": {},
   "outputs": [],
   "source": [
    "from sklearn.metrics import roc_curve, auc"
   ]
  },
  {
   "cell_type": "code",
   "execution_count": 47,
   "metadata": {},
   "outputs": [],
   "source": [
    "def plot_roc_curve(y_true, y_pred):\n",
    "\n",
    "    fpr, tpr, threshold = roc_curve(y_true, y_pred)\n",
    "\n",
    "    roc_auc = auc(fpr, tpr)\n",
    "    plt.figure(figsize = (7, 7))\n",
    "    plt.title('ROC curve')\n",
    "    plt.plot(fpr, tpr, 'b', label = 'AUC = %0.2f' % roc_auc)\n",
    "    plt.legend(loc = 'lower right')\n",
    "    plt.plot([0, 1], [0, 1],'r--')\n",
    "    plt.xlim([0, 1])\n",
    "    plt.ylim([0, 1])\n",
    "    plt.ylabel('True Positive Rate')\n",
    "    plt.xlabel('False Positive Rate')\n",
    "    plt.show()"
   ]
  },
  {
   "cell_type": "code",
   "execution_count": 48,
   "metadata": {},
   "outputs": [
    {
     "data": {
      "image/png": "[encoded data removed]",
      "text/plain": [
       "<Figure size 504x504 with 1 Axes>"
      ]
     },
     "metadata": {
      "needs_background": "light"
     },
     "output_type": "display_data"
    }
   ],
   "source": [
    "plot_roc_curve(y_val, pred)"
   ]
  },
  {
   "cell_type": "markdown",
   "metadata": {},
   "source": [
    "Часто хочется понимать, насколько большую роль играет тот или иной признак для предсказания класса объекта. Есть различные способы посчитать его важность. Один из простых способов сделать это для Random Forest выглядит так:\n",
    "1. Посчитать out-of-bag ошибку предсказания `err_oob` (https://en.wikipedia.org/wiki/Out-of-bag_error)\n",
    "2. Перемешать значения признака `j` у объектов выборки (у каждого из объектов изменится значение признака `j` на какой-то другой)\n",
    "3. Посчитать out-of-bag ошибку (`err_oob_j`) еще раз.\n",
    "4. Оценкой важности признака `j` для одного дерева будет разность `err_oob_j - err_oob`, важность для всего леса считается как среднее значение важности по деревьям.\n",
    "\n",
    "Реализуйте функцию `feature_importance`, которая принимает на вход Random Forest и возвращает массив, в котором содержится важность для каждого признака."
   ]
  },
  {
   "cell_type": "code",
   "execution_count": 132,
   "metadata": {},
   "outputs": [],
   "source": [
    "def feature_importance(rfc, X, labels):    \n",
    "    oob_errors = np.zeros(rfc.n_estimators)\n",
    "    \n",
    "    features_errors = np.zeros(shape=(X.shape[1], rfc.n_estimators))\n",
    "    \n",
    "    \n",
    "    for index, (estimator, oob_indices) in tqdm(enumerate(zip(rfc.estimators, rfc.OOB_indices))):\n",
    "        X_oob = X.iloc[oob_indices]\n",
    "        y_oob_true = labels[oob_indices]\n",
    "\n",
    "        y_oob_predicted = estimator.predict(X_oob)\n",
    "\n",
    "        #print(y_oob_predicted)\n",
    "        #print(y_oob_true.shape, y_oob_predicted.shape)\n",
    "        print(y_oob_predicted.shape, y_oob_true.shape)\n",
    "        oob_error_estimator_i = np.mean(y_oob_predicted == y_oob_true)\n",
    "        #print(\"GGGGG\")\n",
    "        # print(oob_error_estimator_i)\n",
    "        oob_errors[index] = oob_error_estimator_i\n",
    "        #print(\"ASASASASAASASAS\")\n",
    "        # Считаем `err_oob_j`:\n",
    "        for feature_index, feature in enumerate(X.columns):\n",
    "            permutated_features = np.random.permutation(X[feature])\n",
    "            X_permutated_oob = X.copy()\n",
    "            X_permutated_oob[feature] = permutated_features\n",
    "\n",
    "            y_oob_permutated = estimator.predict(X_permutated_oob)\n",
    "            \n",
    "            oob_error_feature_j = np.mean(y_oob_permutated == y_oob_true)\n",
    "            \n",
    "            features_errors[feature_index, index] = oob_error_estimator_i - oob_error_feature_j\n",
    "    \n",
    "    feature_importances = features_errors.mean(0)\n",
    "    \n",
    "    return feature_importances\n",
    "\n",
    "    \n",
    "def most_important_features(importance, names, k=20):\n",
    "    # Выводит названия k самых важных признаков\n",
    "    idicies = np.argsort(importance)[::-1][:k]\n",
    "    return np.array(names)[idicies]"
   ]
  },
  {
   "cell_type": "markdown",
   "metadata": {},
   "source": [
    "Протестируйте решение на простом синтетическом наборе данных. В результате должна получиться точность `1.0`, наибольшее значение важности должно быть у признака с индексом `4`, признаки с индексами `2` и `3`  должны быть одинаково важны, а остальные признаки - не важны совсем."
   ]
  },
  {
   "cell_type": "code",
   "execution_count": 133,
   "metadata": {},
   "outputs": [
    {
     "data": {
      "application/vnd.jupyter.widget-view+json": {
       "model_id": "175327e7c56f4a12b6f340dfd64863da",
       "version_major": 2,
       "version_minor": 0
      },
      "text/plain": [
       "  0%|          | 0/100 [00:00<?, ?it/s]"
      ]
     },
     "metadata": {},
     "output_type": "display_data"
    },
    {
     "name": "stdout",
     "output_type": "stream",
     "text": [
      "Accuracy: 1.0\n"
     ]
    },
    {
     "data": {
      "application/vnd.jupyter.widget-view+json": {
       "model_id": "ffe73cf95b104d2abd6a974de34227e1",
       "version_major": 2,
       "version_minor": 0
      },
      "text/plain": [
       "0it [00:00, ?it/s]"
      ]
     },
     "metadata": {},
     "output_type": "display_data"
    },
    {
     "name": "stdout",
     "output_type": "stream",
     "text": [
      "(447,) (447,)\n"
     ]
    },
    {
     "name": "stderr",
     "output_type": "stream",
     "text": [
      "/tmp/ipykernel_27763/286248466.py:29: DeprecationWarning: elementwise comparison failed; this will raise an error in the future.\n",
      "  oob_error_feature_j = np.mean(y_oob_permutated == y_oob_true)\n"
     ]
    },
    {
     "name": "stdout",
     "output_type": "stream",
     "text": [
      "(443,) (443,)\n",
      "(462,) (462,)\n",
      "(447,) (447,)\n",
      "(450,) (450,)\n",
      "(451,) (451,)\n",
      "(453,) (453,)\n",
      "(465,) (465,)\n",
      "(459,) (459,)\n",
      "(436,) (436,)\n",
      "(466,) (466,)\n",
      "(442,) (442,)\n",
      "(446,) (446,)\n",
      "(435,) (435,)\n",
      "(439,) (439,)\n",
      "(435,) (435,)\n",
      "(454,) (454,)\n",
      "(449,) (449,)\n",
      "(444,) (444,)\n",
      "(454,) (454,)\n",
      "(455,) (455,)\n",
      "(445,) (445,)\n",
      "(430,) (430,)\n",
      "(440,) (440,)\n",
      "(445,) (445,)\n",
      "(447,) (447,)\n",
      "(446,) (446,)\n",
      "(474,) (474,)\n",
      "(434,) (434,)\n",
      "(447,) (447,)\n",
      "(448,) (448,)\n",
      "(466,) (466,)\n",
      "(444,) (444,)\n",
      "(468,) (468,)\n",
      "(447,) (447,)\n",
      "(441,) (441,)\n",
      "(475,) (475,)\n",
      "(452,) (452,)\n",
      "(459,) (459,)\n",
      "(442,) (442,)\n",
      "(456,) (456,)\n",
      "(449,) (449,)\n",
      "(444,) (444,)\n",
      "(443,) (443,)\n",
      "(451,) (451,)\n",
      "(457,) (457,)\n",
      "(449,) (449,)\n",
      "(453,) (453,)\n",
      "(462,) (462,)\n",
      "(448,) (448,)\n",
      "(452,) (452,)\n",
      "(450,) (450,)\n",
      "(452,) (452,)\n",
      "(438,) (438,)\n",
      "(447,) (447,)\n",
      "(442,) (442,)\n",
      "(456,) (456,)\n",
      "(457,) (457,)\n",
      "(453,) (453,)\n",
      "(434,) (434,)\n",
      "(447,) (447,)\n",
      "(453,) (453,)\n",
      "(456,) (456,)\n",
      "(452,) (452,)\n",
      "(451,) (451,)\n",
      "(449,) (449,)\n",
      "(454,) (454,)\n",
      "(442,) (442,)\n",
      "(437,) (437,)\n",
      "(434,) (434,)\n",
      "(436,) (436,)\n",
      "(446,) (446,)\n",
      "(442,) (442,)\n",
      "(454,) (454,)\n",
      "(458,) (458,)\n",
      "(457,) (457,)\n",
      "(437,) (437,)\n",
      "(440,) (440,)\n",
      "(451,) (451,)\n",
      "(457,) (457,)\n",
      "(459,) (459,)\n",
      "(455,) (455,)\n",
      "(447,) (447,)\n",
      "(437,) (437,)\n",
      "(453,) (453,)\n",
      "(451,) (451,)\n",
      "(437,) (437,)\n",
      "(453,) (453,)\n",
      "(446,) (446,)\n",
      "(449,) (449,)\n",
      "(446,) (446,)\n",
      "(449,) (449,)\n",
      "(445,) (445,)\n",
      "(459,) (459,)\n",
      "(459,) (459,)\n",
      "(446,) (446,)\n",
      "(457,) (457,)\n",
      "(443,) (443,)\n",
      "(452,) (452,)\n",
      "(446,) (446,)\n",
      "Importance: [1. 1. 1. 1. 1. 1. 1. 1. 1. 1. 1. 1. 1. 1. 1. 1. 1. 1. 1. 1. 1. 1. 1. 1.\n",
      " 1. 1. 1. 1. 1. 1. 1. 1. 1. 1. 1. 1. 1. 1. 1. 1. 1. 1. 1. 1. 1. 1. 1. 1.\n",
      " 1. 1. 1. 1. 1. 1. 1. 1. 1. 1. 1. 1. 1. 1. 1. 1. 1. 1. 1. 1. 1. 1. 1. 1.\n",
      " 1. 1. 1. 1. 1. 1. 1. 1. 1. 1. 1. 1. 1. 1. 1. 1. 1. 1. 1. 1. 1. 1. 1. 1.\n",
      " 1. 1. 1. 1.]\n"
     ]
    }
   ],
   "source": [
    "def synthetic_dataset(size):\n",
    "    X = np.array([(np.random.randint(0, 2), np.random.randint(0, 2), i % 6 == 3, \n",
    "          i % 6 == 0, i % 3 == 2, np.random.randint(0, 2)) for i in range(size)])\n",
    "    y = np.array([i % 3 for i in range(size)])\n",
    "    \n",
    "    X = pd.DataFrame(X)\n",
    "    y = pd.DataFrame(y)\n",
    "    return X, y\n",
    "\n",
    "X, y = synthetic_dataset(1000)\n",
    "rfc = RandomForestClassifier(n_estimators=100)\n",
    "rfc.fit(X, y[0])\n",
    "print(\"Accuracy:\", np.mean(rfc.predict(X) == y[0].values))\n",
    "print(\"Importance:\", feature_importance(rfc, X, y[0].values))"
   ]
  },
  {
   "cell_type": "markdown",
   "metadata": {},
   "source": [
    "Проверьте, какие признаки важны для датасета spam? (Используйте файлы x_spam_train и y_spam_train)"
   ]
  },
  {
   "cell_type": "markdown",
   "metadata": {},
   "source": [
    "_Ваш ответ_"
   ]
  },
  {
   "cell_type": "markdown",
   "metadata": {},
   "source": [
    "1. Обучите модель на всех данных из x_spam_train и y_spam_train.\n",
    "2. Сделайте submit своего решения и получите значение f1_score не менее 0.6"
   ]
  },
  {
   "cell_type": "code",
   "execution_count": null,
   "metadata": {
    "pycharm": {
     "name": "#%%\n"
    }
   },
   "outputs": [],
   "source": [
    "submission = pd.DataFrame(columns = [\"Id\", \"Expected\"])\n",
    "submission[\"Id\"] = test[\"Id\"]\n",
    "submission[\"Expected\"] = #YOUR CODE\n",
    "submission.to_csv('submission.csv', index=False)"
   ]
  },
  {
   "cell_type": "markdown",
   "metadata": {},
   "source": [
    "В качестве альтернативы попробуем библиотечные реализации ансамблей моделей. \n",
    "\n",
    "1. [CatBoost](https://catboost.ai/docs/)\n",
    "2. [XGBoost](https://xgboost.readthedocs.io/en/latest/)\n",
    "3. [LightGBM](https://lightgbm.readthedocs.io/en/latest/)\n"
   ]
  },
  {
   "cell_type": "markdown",
   "metadata": {},
   "source": [
    "Установите необходимые библиотеки. \n",
    "Возможно, потребуется установка дополнительных пакетов."
   ]
  },
  {
   "cell_type": "code",
   "execution_count": null,
   "metadata": {},
   "outputs": [],
   "source": []
  },
  {
   "cell_type": "markdown",
   "metadata": {},
   "source": [
    "1. Примените модели для нашего датасета.\n",
    "\n",
    "2. Для стандартного набора параметров у каждой модели нарисуйте `ROC` кривую и выведите `AUC` и `accuracy`.\n",
    "\n",
    "3. Посчитайте время обучения каждой модели (можно использовать [timeit magic](https://ipython.readthedocs.io/en/stable/interactive/magics.html#magic-timeit)).\n",
    "\n",
    "4. Сравните метрики качества и скорость обучения моделей. Какие выводы можно сделать?\n",
    "\n"
   ]
  },
  {
   "cell_type": "markdown",
   "metadata": {},
   "source": [
    "_Ваш ответ_"
   ]
  }
 ],
 "metadata": {
  "kernelspec": {
   "display_name": "Python 3 (ipykernel)",
   "language": "python",
   "name": "python3"
  },
  "language_info": {
   "codemirror_mode": {
    "name": "ipython",
    "version": 3
   },
   "file_extension": ".py",
   "mimetype": "text/x-python",
   "name": "python",
   "nbconvert_exporter": "python",
   "pygments_lexer": "ipython3",
   "version": "3.8.12"
  }
 },
 "nbformat": 4,
 "nbformat_minor": 2
}
